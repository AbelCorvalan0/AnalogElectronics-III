{
 "cells": [
  {
   "cell_type": "markdown",
   "metadata": {},
   "source": [
    "# TP 1 - Electrónica Analógica III"
   ]
  },
  {
   "cell_type": "markdown",
   "metadata": {},
   "source": [
    "## Desarrollo"
   ]
  },
  {
   "cell_type": "markdown",
   "metadata": {},
   "source": [
    "## Cálculo del valor de la inductancia\n",
    "\n",
    "Se realiza el cálculo de la inductancia en base al inductor que se tiene."
   ]
  },
  {
   "cell_type": "code",
   "execution_count": 93,
   "metadata": {},
   "outputs": [
    {
     "name": "stdout",
     "output_type": "stream",
     "text": [
      "El valor de la inductancia es L= 3.07e-07\n"
     ]
    }
   ],
   "source": [
    "import numpy as np\n",
    "import math as m\n",
    "import sympy as sym\n",
    "\n",
    "L, N, mu, mur, mu0, S, l= sym.symbols('L, N, u, u_{r}, u_{0} S, l')\n",
    "D, d, d0= sym.symbols('D, d, d_{0}')\n",
    "\n",
    "# Permeabilidad del vacio en [Hy/m]\n",
    "mu0= 4*np.pi*1e-7\n",
    "# Permeabilidad del aire.\n",
    "mur=1\n",
    "# Cálculo de la permeabilidad absoluta\n",
    "mu=mur*mu0\n",
    "\n",
    "# Cantidad de espiras\n",
    "N= 7\n",
    "\n",
    "# Largo del inductor\n",
    "l= 3.48e-3\n",
    "\n",
    "# Cálculo del área del inductor\n",
    "\n",
    "d= 2.9e-3\n",
    "d0= 1.8e-3\n",
    "\n",
    "# Diametro total del inductor\n",
    "D= d+d0\n",
    "A= np.pi*(D/2)**2\n",
    "\n",
    "# Cálculo de la inductancia\n",
    "L= ((N**2)*mu*A)/(l)\n",
    "\n",
    "sym.pprint(\"El valor de la inductancia es L= {:.2e}\".format(L))\n",
    "#L= 307nHy"
   ]
  },
  {
   "cell_type": "markdown",
   "metadata": {},
   "source": [
    "Se realiza el cálculo del producto $ LC $ para la frecuencia de trabajo.\n",
    "\n",
    "$$ 2\\pi f L = \\frac{1}{2\\pi f C} $$\n",
    "\n",
    "$$ \\boxed{ LC= \\frac{1}{(2 \\pi f)^{2}} } $$"
   ]
  },
  {
   "cell_type": "code",
   "execution_count": 94,
   "metadata": {},
   "outputs": [
    {
     "name": "stdout",
     "output_type": "stream",
     "text": [
      "El valor del producto LC es LC=  6.33257397764611e-17\n"
     ]
    }
   ],
   "source": [
    "import numpy as np\n",
    "import math as m\n",
    "import sympy as sym\n",
    "\n",
    "C, f= sym.symbols('C, f')\n",
    "\n",
    "f= 20e6\n",
    "\n",
    "LC= 1/((2*(np.pi)*f)**2)\n",
    "\n",
    "print('El valor del producto LC es LC= ', LC)"
   ]
  },
  {
   "cell_type": "markdown",
   "metadata": {},
   "source": [
    "Se calcula el valor del capacitor $ C_{T} $ teniendo en cuenta el valor de la inductancia $ L $ y el producto $ LC $."
   ]
  },
  {
   "cell_type": "code",
   "execution_count": 95,
   "metadata": {},
   "outputs": [
    {
     "name": "stdout",
     "output_type": "stream",
     "text": [
      "El valor del capacitor Ct es Ct=  2.062851544603102e-10\n"
     ]
    }
   ],
   "source": [
    "C= LC/L\n",
    "\n",
    "print('El valor del capacitor Ct es Ct= ', C)\n",
    "#C= 206.28pF"
   ]
  },
  {
   "cell_type": "markdown",
   "metadata": {},
   "source": [
    "Se procede a calcular el valor de $R_{t}$."
   ]
  },
  {
   "cell_type": "code",
   "execution_count": 96,
   "metadata": {},
   "outputs": [
    {
     "name": "stdout",
     "output_type": "stream",
     "text": [
      "D=  0.4699999999999999\n",
      "l=  0.348\n",
      "El valor de Q=  0.1104050570320535\n"
     ]
    }
   ],
   "source": [
    "import numpy as np\n",
    "import math as m\n",
    "import sympy as sym\n",
    "\n",
    "f_MHz, D_cm, l_cm= sym.symbols('f[Mhz], D[cm], l[cm]')\n",
    "\n",
    "# Defino frecuencia de oscilación\n",
    "f_MHz= f/(1e6)\n",
    "\n",
    "# D y l deben estar en [cm]\n",
    "# Multiplico [mts]*100= [cm]\n",
    "D_cm= D*100\n",
    "l_cm= l*100\n",
    "\n",
    "print('D= ', D_cm)\n",
    "print('l= ', l_cm)\n",
    "\n",
    "Q= (8.55*(D_cm*l_cm)*(m.sqrt(f_MHz)))/(102*l_cm+45*D_cm)\n",
    "\n",
    "print(\"El valor de Q= \", Q)"
   ]
  },
  {
   "cell_type": "markdown",
   "metadata": {},
   "source": [
    "Se determina un valor de $ Q_{c}= 10 $. Se calcula el valor de $R_{p}$ con la siguiente fórmula:\n",
    "\n",
    "$$ \\boxed{ R_{p}= \\omega L \\, Q_{c} }$$"
   ]
  },
  {
   "cell_type": "code",
   "execution_count": 97,
   "metadata": {},
   "outputs": [
    {
     "name": "stdout",
     "output_type": "stream",
     "text": [
      "El valor de Rt=  385.76441312095767\n",
      "El valor de 2*Rt=  771.5288262419153\n"
     ]
    }
   ],
   "source": [
    "#Defino omega\n",
    "omega= 2*(m.pi)*f\n",
    "\n",
    "Qc= 10\n",
    "Rt= omega*L*(Qc)\n",
    "print(\"El valor de Rt= \", Rt) \n",
    "print(\"El valor de 2*Rt= \", (2*Rt))"
   ]
  },
  {
   "cell_type": "markdown",
   "metadata": {},
   "source": [
    "Se considera $C_{T}= 119pF$, por lo que al separarlo en dos ramas tenemos en cada una un valor de $\\frac{C_{T}}{2}= 59.5pF$\n",
    "\n",
    "Se tiene el siguiente sistema de ecuaciones:\n",
    "\n",
    "$$\n",
    "\\begin{cases} \n",
    "59.5pF= \\frac{C_{1}.C_{2}}{C_{1}+C_{2}} \\\\ \n",
    "R'_{g}= \\Bigl( 1 + \\Bigl( \\frac{C_{1}}{C_{2}} \\Bigl) \\Bigl)^2 R_{L} \\\\\n",
    "R'_{g}= 2.R_{T}=1389.8\\Omega\n",
    "\\end{cases}\n",
    "$$\n",
    "\n",
    "Se resuelve este sistema de ecuaciones."
   ]
  },
  {
   "cell_type": "code",
   "execution_count": 98,
   "metadata": {},
   "outputs": [
    {
     "name": "stdout",
     "output_type": "stream",
     "text": [
      "Imprimo el despeje de C1: \n",
      "[C_{2}*C_{T}/(C_{2} - C_{T})]\n",
      "Imprimo el despeje de C2: \n",
      "[C_{T}*(R_{gp} - sqrt(R_{gp}*R_{g}))/(R_{gp} - R_{g}), C_{T}*(R_{gp} + sqrt(R_{gp}*R_{g}))/(R_{gp} - R_{g})]\n",
      "\n",
      " \n",
      "El valor de el capacitor C2 es el siguiente \n",
      " C2(-)=  3.3268344781910135e-11 \n",
      " C2(+)=  4.884271552559845e-11 \n",
      " \n",
      "\n",
      "El valor de C1=  [2.086654192239361e-10]\n"
     ]
    }
   ],
   "source": [
    "import numpy as np\n",
    "import math as m\n",
    "import sympy as sym\n",
    "\n",
    "CT, C1, C2, Rgp, Rg, Rl, Rt= sym.symbols('C_{T}, C_{1}, C_{2}, R_{gp}, R_{g}, R_{L}, R_{T}')\n",
    "\n",
    "#Sistema de 3 ecuaciones y 3 incógnitas. \n",
    "#C2= ((C1+C2)*1.15e-16)/C1 \n",
    "ecu1= sym.Eq(CT, ((C1*C2)/(C1+C2)))\n",
    "ecu2= sym.Eq(Rgp, Rg*(1+(C1/C2))**2)\n",
    "#print(ecu2)\n",
    "\n",
    "#Resuelvo e imprimo C1.\n",
    "print('Imprimo el despeje de C1: ')\n",
    "s_C1= sym.solve(ecu1, C1)\n",
    "print(s_C1)\n",
    "\n",
    "#Reemplazo la expresión de C1, despejo C2 e imprimo C2.\n",
    "# s2= ecu2.subs(C1, (C2*CT/(C2 - CT)))\n",
    "s2= ecu2.subs(C1, (C2*CT/(C2-CT)))\n",
    "s3= sym.solve(s2, C2)\n",
    "print('Imprimo el despeje de C2: ')\n",
    "print(s3)\n",
    "\n",
    "#Reemplazo los valores en la ecuación.\n",
    "Rgp= 1389.8\n",
    "CT= 7.9157e-11/2\n",
    "Rg= 50\n",
    "\n",
    "ecu1= CT*(Rgp - m.sqrt(Rgp*Rg))/(Rgp - Rg)\n",
    "ecu2= CT*(Rgp + m.sqrt(Rgp*Rg))/(Rgp - Rg)\n",
    "\n",
    "#Imprimo los reemplazos para las dos soluciones de C2.\n",
    "print('\\n \\nEl valor de el capacitor C2 es el siguiente \\n C2(-)= ', ecu1, '\\n C2(+)= ', ecu2, '\\n \\n')\n",
    "\n",
    "#Reemplazo el valor de C2 en la expresión de C1.\n",
    "#C2= 5.001368203756213e-11\n",
    "#solut= [C2*CT/(C2 - CT)]\n",
    "solut= [ecu2*CT/(ecu2 - CT)]\n",
    "print('El valor de C1= ', solut)"
   ]
  },
  {
   "cell_type": "markdown",
   "metadata": {},
   "source": [
    "## Verificación de valores de capacidades"
   ]
  },
  {
   "cell_type": "markdown",
   "metadata": {},
   "source": [
    "Se considera $C_{T}= $, por lo que al separarlo en dos ramas tenemos en cada una un valor de $\\frac{C_{T}}{2}= 59.5pF$\n",
    "\n",
    "Se tiene el siguiente sistema de ecuaciones:\n",
    "\n",
    "$$\n",
    "\\begin{cases} \n",
    "\\frac{C_{T}}{2}= \\frac{C_{1}.C_{2}}{C_{1}+C_{2}} \\\\ \n",
    "R'_{L}= \\Bigl( 1 + \\Bigl( \\frac{C_{3}}{C_{4}} \\Bigl) \\Bigl)^2 R_{L} \\\\\n",
    "R'_{L}= R_{T}= 694.92\\Omega\n",
    "\\end{cases}\n",
    "$$\n",
    "\n",
    "Se resuelve este sistema de ecuaciones."
   ]
  },
  {
   "cell_type": "code",
   "execution_count": 99,
   "metadata": {},
   "outputs": [
    {
     "name": "stdout",
     "output_type": "stream",
     "text": [
      "Imprimo el despeje de C1: \n",
      "[C_{2}*C_{T}/(C_{2} - C_{T})]\n",
      "Imprimo el despeje de C2: \n",
      "[C_{T}*(R_{Lp} - sqrt(R_{Lp}*R_{L}))/(R_{Lp} - R_{L}), C_{T}*(R_{Lp} + sqrt(R_{Lp}*R_{L}))/(R_{Lp} - R_{L})]\n",
      "\n",
      " \n",
      "El valor de el capacitor C4 es el siguiente \n",
      " C4(-)=  1.7989580553229642e-11 \n",
      " C2(+)=  -1.9823994436837222e-10 \n",
      " \n",
      "\n",
      "El valor de C3=  [3.2985814026790365e-11]\n"
     ]
    }
   ],
   "source": [
    "import numpy as np\n",
    "import math as m\n",
    "import sympy as sym\n",
    "\n",
    "CT, C1, C2, Rgp, Rg, Rl, Rlp, Rt= sym.symbols('C_{T}, C_{1}, C_{2}, R_{gp}, R_{g}, R_{L}, R_{Lp}, R_{T}')\n",
    "\n",
    "#Sistema de 3 ecuaciones y 3 incógnitas. \n",
    "#C2= ((C1+C2)*1.15e-16)/C1 \n",
    "ecu1= sym.Eq(CT, ((C1*C2)/(C1+C2)))\n",
    "ecu2= sym.Eq(Rlp, Rl*(1+(C1/C2))**2)\n",
    "#print(ecu2)\n",
    "\n",
    "#Resuelvo e imprimo C1.\n",
    "print('Imprimo el despeje de C1: ')\n",
    "s_C1= sym.solve(ecu1, C1)\n",
    "print(s_C1)\n",
    "\n",
    "#Reemplazo la expresión de C1, despejo C2 e imprimo C2.\n",
    "# s2= ecu2.subs(C1, (C2*CT/(C2 - CT)))\n",
    "s2= ecu2.subs(C1, (C2*CT/(C2-CT)))\n",
    "s3= sym.solve(s2, C2)\n",
    "print('Imprimo el despeje de C2: ')\n",
    "print(s3)\n",
    "\n",
    "#Reemplazo los valores en la ecuación.\n",
    "Rlp= (1389.8)/2\n",
    "#CT/2\n",
    "CT= 39.57e-12\n",
    "Rl= 1000\n",
    "\n",
    "ecu3= CT*(Rlp - m.sqrt(Rlp*Rl))/(Rlp - Rl)\n",
    "ecu4= CT*(Rlp + m.sqrt(Rlp*Rl))/(Rlp - Rl)\n",
    "\n",
    "#Imprimo los reemplazos para las dos soluciones de C2.\n",
    "print('\\n \\nEl valor de el capacitor C4 es el siguiente \\n C4(-)= ', ecu3, '\\n C2(+)= ', ecu4, '\\n \\n')\n",
    "\n",
    "#Reemplazo el valor de C2 en la expresión de C1.\n",
    "#C2= 5.001368203756213e-11\n",
    "#solut= [C2*CT/(C2 - CT)]\n",
    "solut= [ecu4*CT/(ecu4 - CT)]\n",
    "print('El valor de C3= ', solut)"
   ]
  },
  {
   "cell_type": "code",
   "execution_count": 100,
   "metadata": {},
   "outputs": [],
   "source": [
    "# #PLOT\n",
    "# import matplotlib.pyplot as plt\n",
    "\n",
    "# def f(d, n, l):\n",
    "#     return (((d**2)*(n**2))/(18*d+40*l))\n",
    "\n",
    "# xlist= np.linspace(0, 15, num= 100)\n",
    "\n",
    "# ylist= f(1.97, xlist, 1.77)\n",
    "\n",
    "# plt.figure(num= 0, dpi=1000)\n",
    "# plt.plot(xlist, ylist)\n",
    "# plt.xlabel(\"N [cant espiras]\")\n",
    "# plt.ylabel(\"L[$\\mu$Hy]\")\n",
    "# plt.grid()\n",
    "\n"
   ]
  }
 ],
 "metadata": {
  "kernelspec": {
   "display_name": "Python 3",
   "language": "python",
   "name": "python3"
  },
  "language_info": {
   "codemirror_mode": {
    "name": "ipython",
    "version": 3
   },
   "file_extension": ".py",
   "mimetype": "text/x-python",
   "name": "python",
   "nbconvert_exporter": "python",
   "pygments_lexer": "ipython3",
   "version": "3.10.12"
  }
 },
 "nbformat": 4,
 "nbformat_minor": 2
}
