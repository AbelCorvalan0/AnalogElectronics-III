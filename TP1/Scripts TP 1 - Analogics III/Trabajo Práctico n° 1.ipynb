{
 "cells": [
  {
   "cell_type": "markdown",
   "metadata": {},
   "source": [
    "# Trabajo Práctico N° 1 - Electrónica Analógica III"
   ]
  },
  {
   "cell_type": "markdown",
   "metadata": {},
   "source": [
    "### Cálculo del producto $LC$\n",
    "\n",
    "Se parte de la siguiente fórmula:\n",
    "\n",
    "$$ X_{L} = X_{C} $$\n",
    "$$ 2\\pi f_{o}L = \\frac{1}{2\\pi f_{o}C}$$\n",
    "$$ f_{o} = \\frac{1}{\\sqrt{2\\pi LC}} $$\n",
    "$$ LC = \\frac{1}{(2\\pi f_{o})^2} $$\n",
    "\n",
    "Determinamos el valor de $L= 700nHy$\n",
    "\n",
    "$$ C = \\frac{1}{(2\\pi f_{o})^2L} $$\n",
    "$$ C = \\frac{1}{(2\\pi 20MHz)^2700nHy} $$\n",
    "$$ C = \\frac{1}{(2\\pi 20MHz)^2700nHy} $$"
   ]
  },
  {
   "cell_type": "code",
   "execution_count": 6,
   "metadata": {},
   "outputs": [
    {
     "name": "stdout",
     "output_type": "stream",
     "text": [
      "CT=  9.046534253780158e-11\n"
     ]
    }
   ],
   "source": [
    "import sympy as sym\n",
    "import numpy as np\n",
    "import math as m\n",
    "CT, fo, L= sym.symbols('C_{T}, f_{o}, L')\n",
    "\n",
    "fo= 20e6\n",
    "# L= input(\"Ingrese un valor para L= \")\n",
    "L= 700e-9\n",
    "\n",
    "CT= 1/(L*(2*m.pi*fo)**2)\n",
    "\n",
    "print(\"CT= \", CT)"
   ]
  },
  {
   "cell_type": "markdown",
   "metadata": {},
   "source": [
    "Ahora tenemos que buscar que valores necesitamos para $C_1$ y $C_2$."
   ]
  },
  {
   "cell_type": "markdown",
   "metadata": {},
   "source": [
    "## Fórmula de Inductancia\n",
    "\n",
    "Script para despeje de la fórmula de la inductancia:\n",
    "\n",
    "$$ \\boxed{ L= \\mu \\frac{N^2 S}{l} } $$"
   ]
  },
  {
   "cell_type": "code",
   "execution_count": 12,
   "metadata": {},
   "outputs": [
    {
     "ename": "ModuleNotFoundError",
     "evalue": "No module named 'ipywidgets'",
     "output_type": "error",
     "traceback": [
      "\u001b[0;31m---------------------------------------------------------------------------\u001b[0m",
      "\u001b[0;31mModuleNotFoundError\u001b[0m                       Traceback (most recent call last)",
      "Cell \u001b[0;32mIn[12], line 4\u001b[0m\n\u001b[1;32m      2\u001b[0m \u001b[38;5;28;01mimport\u001b[39;00m \u001b[38;5;21;01mnumpy\u001b[39;00m \u001b[38;5;28;01mas\u001b[39;00m \u001b[38;5;21;01mnp\u001b[39;00m\n\u001b[1;32m      3\u001b[0m \u001b[38;5;28;01mimport\u001b[39;00m \u001b[38;5;21;01mmath\u001b[39;00m \u001b[38;5;28;01mas\u001b[39;00m \u001b[38;5;21;01mm\u001b[39;00m\n\u001b[0;32m----> 4\u001b[0m \u001b[38;5;28;01mfrom\u001b[39;00m \u001b[38;5;21;01mipywidgets\u001b[39;00m \u001b[38;5;28;01mimport\u001b[39;00m widgets\n\u001b[1;32m      6\u001b[0m L, u, kn, N, S, l\u001b[38;5;241m=\u001b[39m sym\u001b[38;5;241m.\u001b[39msymbols(\u001b[38;5;124m'\u001b[39m\u001b[38;5;124mL, u, k_\u001b[39m\u001b[38;5;132;01m{n}\u001b[39;00m\u001b[38;5;124m, N, S, l\u001b[39m\u001b[38;5;124m'\u001b[39m)\n\u001b[1;32m      8\u001b[0m e\u001b[38;5;241m=\u001b[39m u\u001b[38;5;241m*\u001b[39mkn\u001b[38;5;241m*\u001b[39m((N\u001b[38;5;241m*\u001b[39m\u001b[38;5;241m*\u001b[39m\u001b[38;5;241m2\u001b[39m)\u001b[38;5;241m*\u001b[39mS)\u001b[38;5;241m/\u001b[39ml\n",
      "\u001b[0;31mModuleNotFoundError\u001b[0m: No module named 'ipywidgets'"
     ]
    }
   ],
   "source": [
    "import sympy as sym\n",
    "import numpy as np\n",
    "import math as m\n",
    "\n",
    "L, u, kn, N, S, l= sym.symbols('L, u, k_{n}, N, S, l')\n",
    "\n",
    "e= u*kn*((N**2)*S)/l\n",
    "eq= sym.Eq(L, e)\n",
    "\n",
    "sym.pprint(eq)\n",
    "\n",
    "#Hago despeje de N.\n",
    "eq0= sym.solve(eq, N)\n",
    "\n",
    "#Imprimo el despeje.\n",
    "sym.pprint(eq0)\n",
    "\n",
    "#Imprimo la fórmula en formato LaTeX.\n",
    "eq0\n"
   ]
  },
  {
   "cell_type": "code",
   "execution_count": null,
   "metadata": {},
   "outputs": [],
   "source": [
    "# L= 800e-9\n",
    "# l=\n",
    "# S=\n",
    "# kn=\n",
    "# u=\n",
    "\n",
    "# eqt= m.sqrt((L*l)/(S*kn*u))"
   ]
  }
 ],
 "metadata": {
  "kernelspec": {
   "display_name": "Python 3",
   "language": "python",
   "name": "python3"
  },
  "language_info": {
   "codemirror_mode": {
    "name": "ipython",
    "version": 3
   },
   "file_extension": ".py",
   "mimetype": "text/x-python",
   "name": "python",
   "nbconvert_exporter": "python",
   "pygments_lexer": "ipython3",
   "version": "3.10.12"
  }
 },
 "nbformat": 4,
 "nbformat_minor": 2
}
