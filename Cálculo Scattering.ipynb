{
 "cells": [
  {
   "cell_type": "markdown",
   "metadata": {},
   "source": [
    "# TP2 - Electrónica Analógica III"
   ]
  },
  {
   "cell_type": "markdown",
   "metadata": {},
   "source": [
    "El análisis mediante parámetros Scattering se tiene debido a criterios de medición directa en redes de alta frecuencia.\n",
    "\n",
    "La matriz de Scattering provee de una descripción completa de N puertos. Esto involucra ondas de voltaje incidente en los puertos con las ondas reflejadas desde los puertos."
   ]
  },
  {
   "cell_type": "markdown",
   "metadata": {},
   "source": [
    "Se escriben las ecuaciones de los coeficientes de reflexión.\n",
    "\n",
    "$$ \\boxed{ \\Gamma_{in}= \\frac{S_{11}S_{12\\Gamma_{L}}}{1-{S_{22} \\Gamma_{L}}} } $$\n",
    "\n",
    "\n",
    "$$ \\boxed{ \\Gamma_{out}= S_{22} + \\frac{S_{12}S_{21}\\Gamma_{S}}{1-S_{22}\\Gamma_{L}} } $$"
   ]
  },
  {
   "cell_type": "code",
   "execution_count": 181,
   "metadata": {},
   "outputs": [
    {
     "name": "stdout",
     "output_type": "stream",
     "text": [
      "              \\Gamma_{L}⋅(-0.078043005168 - 0.017730790518⋅ⅈ)\n",
      "\\Gamma_{in} = ───────────────────────────────────────────────\n",
      "                  -\\Gamma_{L}⋅(-0.078354 - 0.153116⋅ⅈ) + 1   \n"
     ]
    },
    {
     "data": {
      "text/latex": [
       "$\\displaystyle \\Gamma_{in} = \\frac{\\Gamma_{L} \\left(-0.078043005168 - 0.017730790518 i\\right)}{- \\Gamma_{L} \\left(-0.078354 - 0.153116 i\\right) + 1}$"
      ],
      "text/plain": [
       "Eq(\\Gamma_{in}, \\Gamma_{L}*(-0.078043005168 - 0.017730790518*I)/(-\\Gamma_{L}*(-0.078354 - 0.153116*I) + 1))"
      ]
     },
     "execution_count": 181,
     "metadata": {},
     "output_type": "execute_result"
    }
   ],
   "source": [
    "##### COEFICIENTE DE ENTRADA #####\n",
    "\n",
    "import sympy as sym\n",
    "import numpy as np\n",
    "import cmath\n",
    "\n",
    "#Variables para la fórmula del COEFICIENTE DE ENTRADA.\n",
    "gin, s11, s12, gl, s22= sym.symbols('\\Gamma_{in}, S_{11}, S_{12}, \\Gamma_{L}, S_{22}')\n",
    "\n",
    "s11= complex(-0.548289, 0.360159)\n",
    "s12= complex(0.084595, 0.087907)\n",
    "s21= complex(1.634839, 1.617808)\n",
    "s22= complex(-0.078354, -0.153116)\n",
    "\n",
    "eqgin= (s11*s12*gl)/(1-s22*gl)\n",
    "\n",
    "eq_gin= sym.Eq(gin, eqgin)\n",
    "\n",
    "#Fórmula para Overleaf\n",
    "sym.pprint(eq_gin)\n",
    "\n",
    "#Fórmula EQU\n",
    "eq_gin"
   ]
  },
  {
   "cell_type": "code",
   "execution_count": 182,
   "metadata": {},
   "outputs": [
    {
     "name": "stdout",
     "output_type": "stream",
     "text": [
      "               S_{12}⋅S_{21}⋅\\Gamma_{S}         \n",
      "\\Gamma_{out} = ──────────────────────── + S_{22}\n",
      "                -S_{22}⋅\\Gamma_{S} + 1          \n"
     ]
    },
    {
     "data": {
      "text/latex": [
       "$\\displaystyle \\Gamma_{out} = \\frac{S_{12} S_{21} \\Gamma_{S}}{- S_{22} \\Gamma_{S} + 1} + S_{22}$"
      ],
      "text/plain": [
       "Eq(\\Gamma_{out}, S_{12}*S_{21}*\\Gamma_{S}/(-S_{22}*\\Gamma_{S} + 1) + S_{22})"
      ]
     },
     "execution_count": 182,
     "metadata": {},
     "output_type": "execute_result"
    }
   ],
   "source": [
    "##### COEFICIENTE DE SALIDA #####\n",
    "\n",
    "import sympy as sym\n",
    "import numpy as np\n",
    "\n",
    "#Variables para la fórmula del COEFICIENTE DE SALIDA.\n",
    "gout, s22, s12, s21, gs, s11= sym.symbols('\\Gamma_{out}, S_{22}, S_{12}, S_{21}, \\Gamma_{S}, S_{11}')\n",
    "\n",
    "eqgout= (s22+(s12*s21*gs)/(1-s22*gs))\n",
    "\n",
    "eq_gout= sym.Eq(gout, eqgout)\n",
    "\n",
    "#Fórmula para Overleaf\n",
    "sym.pprint(eq_gout)\n",
    "\n",
    "#Fórmula EQU\n",
    "eq_gout"
   ]
  },
  {
   "cell_type": "markdown",
   "metadata": {},
   "source": [
    "Se escriben las fórmulas que relacionan los coeficientes de reflexión $\\Gamma_{in}$ y $\\Gamma_{out}$ con las impedancias de entrada $Z_{out}$ y $Z_{in}$ correspondientemente.\n",
    "\n",
    "\n",
    "$$ \\boxed{ Z_{in}= Z_{o} \\space \\frac{1+\\Gamma_{in}}{1-\\Gamma_{out}} } $$\n",
    "\n",
    "$$ \\boxed{ Z_{out}= Z_{o} \\space \\frac{1+\\Gamma_{out}}{1-\\Gamma_{out}} } $$"
   ]
  },
  {
   "cell_type": "code",
   "execution_count": 183,
   "metadata": {},
   "outputs": [
    {
     "name": "stdout",
     "output_type": "stream",
     "text": [
      "         Z_{o}⋅(\\Gamma_{in} + 1)\n",
      "Z_{in} = ───────────────────────\n",
      "                1 - Z_{in}      \n"
     ]
    },
    {
     "data": {
      "text/latex": [
       "$\\displaystyle Z_{in} = \\frac{Z_{o} \\left(\\Gamma_{in} + 1\\right)}{1 - Z_{in}}$"
      ],
      "text/plain": [
       "Eq(Z_{in}, Z_{o}*(\\Gamma_{in} + 1)/(1 - Z_{in}))"
      ]
     },
     "execution_count": 183,
     "metadata": {},
     "output_type": "execute_result"
    }
   ],
   "source": [
    "##### IMPEDANCIA DE ENTRADA EN RELACIÓN CON COEFICIENTE DE REFLEXIÓN DE ENTRADA #####\n",
    "\n",
    "import sympy as sym\n",
    "import numpy as np\n",
    "\n",
    "#Variables para la fórmula del COEFICIENTE DE SALIDA.\n",
    "zin, zo, gin= sym.symbols('Z_{in}, Z_{o}, \\Gamma_{in}')\n",
    "\n",
    "eqzin= zo*(1+gin)/(1-zin)\n",
    "\n",
    "eq_zin= sym.Eq(zin, eqzin)\n",
    "\n",
    "#Fórmula para Overleaf\n",
    "sym.pprint(eq_zin)\n",
    "\n",
    "#Fórmula EQU\n",
    "eq_zin"
   ]
  },
  {
   "cell_type": "code",
   "execution_count": 184,
   "metadata": {},
   "outputs": [
    {
     "name": "stdout",
     "output_type": "stream",
     "text": [
      "          Z_{o}⋅(\\Gamma_{out} + 1)\n",
      "Z_{out} = ────────────────────────\n",
      "              1 - \\Gamma_{out}    \n"
     ]
    },
    {
     "data": {
      "text/latex": [
       "$\\displaystyle Z_{out} = \\frac{Z_{o} \\left(\\Gamma_{out} + 1\\right)}{1 - \\Gamma_{out}}$"
      ],
      "text/plain": [
       "Eq(Z_{out}, Z_{o}*(\\Gamma_{out} + 1)/(1 - \\Gamma_{out}))"
      ]
     },
     "execution_count": 184,
     "metadata": {},
     "output_type": "execute_result"
    }
   ],
   "source": [
    "##### IMPEDANCIA DE SALIDA EN RELACIÓN CON COEFICIENTE DE REFLEXIÓN DE SALIDA #####\n",
    "\n",
    "import sympy as sym\n",
    "import numpy as np\n",
    "\n",
    "#Variables para la fórmula del COEFICIENTE DE SALIDA.\n",
    "zout, zo, gout= sym.symbols('Z_{out}, Z_{o}, \\Gamma_{out}')\n",
    "\n",
    "\n",
    "\n",
    "eqzout= zo*(1+gout)/(1-gout)\n",
    "\n",
    "eq_zout= sym.Eq(zout, eqzout)\n",
    "\n",
    "#Fórmula para Overleaf\n",
    "sym.pprint(eq_zout)\n",
    "\n",
    "#Fórmula EQU\n",
    "eq_zout"
   ]
  },
  {
   "cell_type": "code",
   "execution_count": 185,
   "metadata": {},
   "outputs": [
    {
     "name": "stdout",
     "output_type": "stream",
     "text": [
      "(3+13j)\n"
     ]
    }
   ],
   "source": [
    "#Ejemplo complejos\n",
    "c= complex(1, 5)\n",
    "b= complex(2, 8)\n",
    "\n",
    "a=c+b\n",
    "\n",
    "print(a)"
   ]
  },
  {
   "cell_type": "markdown",
   "metadata": {},
   "source": [
    "# Cálculo de determinante"
   ]
  },
  {
   "cell_type": "code",
   "execution_count": 186,
   "metadata": {},
   "outputs": [
    {
     "name": "stdout",
     "output_type": "stream",
     "text": [
      "K= 1.0709974399632898\n",
      "dt= (0.102024184401-0.22484033949499999j)\n",
      "B1= 1.3397893615630838\n",
      "B2= 0.5382864135030839\n",
      "C1= (-0.5747216504775605+0.32692032502046525j)\n",
      "C2= (0.05856300987321959-0.2396485566716943j)\n",
      "gamma_in_m= (0.8504241743270421, 0.0)\n",
      "gamma_in_ang= 150.3673762658248\n",
      "gamma_out_m= 0.6548296539197374\n",
      "gamma_out_ang= -76.26773584444554\n",
      "gamma_in= (-0.7392002089687898+0.420481066565819j)\n",
      "gamma_out= (0.15544687038667193-0.6361117402938199j)\n",
      "zin= (4.322477015633529+13.133377604395557j)\n",
      "zout= (25.54763251673759-56.90196899430392j)\n"
     ]
    }
   ],
   "source": [
    "##### COEFICIENTE DE ENTRADA #####\n",
    "\n",
    "import sympy as sym\n",
    "import numpy as np\n",
    "import cmath\n",
    "from cmath import sqrt\n",
    "import math as m\n",
    "\n",
    "\n",
    "#Variables para la fórmula del COEFICIENTE DE ENTRADA.\n",
    "K, B1, B2, C1, C2, dt= sym.symbols('K, B_{1}, B_{2}, C_{1}, C_{2}, \\Triangle')\n",
    "\n",
    "\n",
    "\n",
    "#dt= cmath.rect(0.247, -65.6)\n",
    "\n",
    "#s11= cmath.rect(0.656, 146.7)\n",
    "#s12= cmath.rect(0.122, 46.1)\n",
    "#s21= cmath.rect(2.3, 44.7)\n",
    "#s22= cmath.rect(0.172, -117.1)\n",
    "\n",
    "s11= complex(-0.548289, 0.360159)\n",
    "s12= complex(0.084595, 0.087907)\n",
    "s21= complex(1.634839, 1.617808)\n",
    "s22= complex(-0.078354, -0.153116)\n",
    "\n",
    "dt= s11*s22 - s12*s21\n",
    "\n",
    "\n",
    "K= (1- abs(s11)**2 - abs(s22)**2 + abs(dt)**2)/(2*abs(s12*s21))\n",
    "\n",
    "print(\"K=\",K)\n",
    "print(\"dt=\",dt)\n",
    "\n",
    "B1= 1+ abs(s11)**2 - abs(s22)**2 - abs(dt)**2\n",
    "B2= 1+ abs(s22)**2 - abs(s11)**2 - abs(dt)**2\n",
    "#ERROR\n",
    "C1= s11-(dt*s22.conjugate())\n",
    "#print(np.rad2deg(cmath.phase(C1)))\n",
    "C2= s22-(dt*s11.conjugate())\n",
    "\n",
    "print(\"B1=\",B1)\n",
    "print(\"B2=\",B2)\n",
    "print(\"C1=\",C1)\n",
    "print(\"C2=\",C2)\n",
    "\n",
    "\n",
    "\n",
    "gamma_in_m= abs((B1 - ((B1)**2 - 4*(abs(C1))**2)**(0.5) )/(2*abs(C1)))\n",
    "\n",
    "print(\"gamma_in_m=\",gamma_in_r)\n",
    "\n",
    "#now we calculate the angle of \"gamma_in_ang\", is equal to the angle of C1 in degrees\n",
    "gamma_in_ang= np.rad2deg(cmath.phase(C1))\n",
    "print(\"gamma_in_ang=\",gamma_in_ang)\n",
    "\n",
    "\n",
    "\n",
    "gamma_out_m= abs((B2 - ((B2)**2 - 4*(abs(C2))**2)**(0.5) )/(2*abs(C2)))\n",
    "\n",
    "print(\"gamma_out_m=\",gamma_out_m)\n",
    "\n",
    "#now we calculate the angle of \"gamma_out_ang\", is equal to the angle of C2 in degrees\n",
    "gamma_out_ang= np.rad2deg(cmath.phase(C2))\n",
    "print(\"gamma_out_ang=\",gamma_out_ang)\n",
    "\n",
    "\n",
    "#declare gamma_in and gamma_out as a complex number with the magnitude and angle calculated before\n",
    "gamma_in= cmath.rect(gamma_in_m, np.deg2rad(gamma_in_ang))\n",
    "gamma_out= cmath.rect(gamma_out_m, np.deg2rad(gamma_out_ang))\n",
    "\n",
    "\n",
    "print(\"gamma_in=\",gamma_in)\n",
    "print(\"gamma_out=\",gamma_out)\n",
    "\n",
    "zin= 50*(1+gamma_in)/(1-gamma_in)\n",
    "zout= 50*(1+gamma_out)/(1-gamma_out)\n",
    "\n",
    "print(\"zin=\",zin)\n",
    "print(\"zout=\",zout)\n",
    "\n",
    "\n",
    "\n",
    "\n",
    "\n",
    "\n",
    "\n",
    "\n",
    "\n",
    "\n",
    "#mag= cmath.phase(complex(gamma_in_r))\n",
    "#ang= cmath.polar(complex(gamma_in_r))\n",
    "\n",
    "#ang"
   ]
  }
 ],
 "metadata": {
  "kernelspec": {
   "display_name": "Python 3",
   "language": "python",
   "name": "python3"
  },
  "language_info": {
   "codemirror_mode": {
    "name": "ipython",
    "version": 3
   },
   "file_extension": ".py",
   "mimetype": "text/x-python",
   "name": "python",
   "nbconvert_exporter": "python",
   "pygments_lexer": "ipython3",
   "version": "3.11.9"
  }
 },
 "nbformat": 4,
 "nbformat_minor": 2
}
