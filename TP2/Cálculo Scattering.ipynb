{
 "cells": [
  {
   "cell_type": "markdown",
   "metadata": {},
   "source": [
    "# TP2 - Electrónica Analógica III"
   ]
  },
  {
   "cell_type": "markdown",
   "metadata": {},
   "source": [
    "El análisis mediante parámetros Scattering se tiene debido a criterios de medición directa en redes de alta frecuencia.\n",
    "\n",
    "La matriz de Scattering provee de una descripción completa de N puertos. Esto involucra ondas de voltaje incidente en los puertos con las ondas reflejadas desde los puertos."
   ]
  },
  {
   "cell_type": "markdown",
   "metadata": {},
   "source": [
    "Se escriben las ecuaciones de los coeficientes de reflexión.\n",
    "\n",
    "$$ \\boxed{ \\Gamma_{in}= \\frac{S_{11}S_{12\\Gamma_{L}}}{1-{S_{22} \\Gamma_{L}}} } $$\n",
    "\n",
    "\n",
    "$$ \\boxed{ \\Gamma_{out}= S_{22} + \\frac{S_{12}S_{21}\\Gamma_{S}}{1-S_{22}\\Gamma_{L}} } $$"
   ]
  },
  {
   "cell_type": "code",
   "execution_count": 8,
   "metadata": {},
   "outputs": [
    {
     "name": "stdout",
     "output_type": "stream",
     "text": [
      "              \\Gamma_{L}⋅(-0.078043005168 - 0.017730790518⋅ⅈ)\n",
      "\\Gamma_{in} = ───────────────────────────────────────────────\n",
      "                  -\\Gamma_{L}⋅(-0.078354 - 0.153116⋅ⅈ) + 1   \n"
     ]
    },
    {
     "data": {
      "text/latex": [
       "$\\displaystyle \\Gamma_{in} = \\frac{\\Gamma_{L} \\left(-0.078043005168 - 0.017730790518 i\\right)}{- \\Gamma_{L} \\left(-0.078354 - 0.153116 i\\right) + 1}$"
      ],
      "text/plain": [
       "Eq(\\Gamma_{in}, \\Gamma_{L}*(-0.078043005168 - 0.017730790518*I)/(-\\Gamma_{L}*(-0.078354 - 0.153116*I) + 1))"
      ]
     },
     "execution_count": 8,
     "metadata": {},
     "output_type": "execute_result"
    }
   ],
   "source": [
    "##### COEFICIENTE DE ENTRADA #####\n",
    "\n",
    "import sympy as sym\n",
    "import numpy as np\n",
    "import cmath\n",
    "\n",
    "#Variables para la fórmula del COEFICIENTE DE ENTRADA.\n",
    "gin, s11, s12, gl, s22= sym.symbols('\\Gamma_{in}, S_{11}, S_{12}, \\Gamma_{L}, S_{22}')\n",
    "\n",
    "s11= complex(-0.548289, 0.360159)\n",
    "s12= complex(0.084595, 0.087907)\n",
    "s21= complex(1.634839, 1.617808)\n",
    "s22= complex(-0.078354, -0.153116)\n",
    "\n",
    "eqgin= (s11*s12*gl)/(1-s22*gl)\n",
    "\n",
    "eq_gin= sym.Eq(gin, eqgin)\n",
    "\n",
    "#Fórmula para Overleaf\n",
    "sym.pprint(eq_gin)\n",
    "\n",
    "#Fórmula EQU\n",
    "eq_gin"
   ]
  },
  {
   "cell_type": "code",
   "execution_count": 9,
   "metadata": {},
   "outputs": [
    {
     "name": "stdout",
     "output_type": "stream",
     "text": [
      "               S_{12}⋅S_{21}⋅\\Gamma_{S}         \n",
      "\\Gamma_{out} = ──────────────────────── + S_{22}\n",
      "                -S_{22}⋅\\Gamma_{S} + 1          \n"
     ]
    },
    {
     "data": {
      "text/latex": [
       "$\\displaystyle \\Gamma_{out} = \\frac{S_{12} S_{21} \\Gamma_{S}}{- S_{22} \\Gamma_{S} + 1} + S_{22}$"
      ],
      "text/plain": [
       "Eq(\\Gamma_{out}, S_{12}*S_{21}*\\Gamma_{S}/(-S_{22}*\\Gamma_{S} + 1) + S_{22})"
      ]
     },
     "execution_count": 9,
     "metadata": {},
     "output_type": "execute_result"
    }
   ],
   "source": [
    "##### COEFICIENTE DE SALIDA #####\n",
    "\n",
    "import sympy as sym\n",
    "import numpy as np\n",
    "\n",
    "#Variables para la fórmula del COEFICIENTE DE SALIDA.\n",
    "gout, s22, s12, s21, gs, s11= sym.symbols('\\Gamma_{out}, S_{22}, S_{12}, S_{21}, \\Gamma_{S}, S_{11}')\n",
    "\n",
    "eqgout= (s22+(s12*s21*gs)/(1-s22*gs))\n",
    "\n",
    "eq_gout= sym.Eq(gout, eqgout)\n",
    "\n",
    "#Fórmula para Overleaf\n",
    "sym.pprint(eq_gout)\n",
    "\n",
    "#Fórmula EQU\n",
    "eq_gout"
   ]
  },
  {
   "cell_type": "markdown",
   "metadata": {},
   "source": [
    "Se escriben las fórmulas que relacionan los coeficientes de reflexión $\\Gamma_{in}$ y $\\Gamma_{out}$ con las impedancias de entrada $Z_{out}$ y $Z_{in}$ correspondientemente.\n",
    "\n",
    "\n",
    "$$ \\boxed{ Z_{in}= Z_{o} \\space \\frac{1+\\Gamma_{in}}{1-\\Gamma_{out}} } $$\n",
    "\n",
    "$$ \\boxed{ Z_{out}= Z_{o} \\space \\frac{1+\\Gamma_{out}}{1-\\Gamma_{out}} } $$"
   ]
  },
  {
   "cell_type": "code",
   "execution_count": 10,
   "metadata": {},
   "outputs": [
    {
     "name": "stdout",
     "output_type": "stream",
     "text": [
      "         Z_{o}⋅(\\Gamma_{in} + 1)\n",
      "Z_{in} = ───────────────────────\n",
      "                1 - Z_{in}      \n"
     ]
    },
    {
     "data": {
      "text/latex": [
       "$\\displaystyle Z_{in} = \\frac{Z_{o} \\left(\\Gamma_{in} + 1\\right)}{1 - Z_{in}}$"
      ],
      "text/plain": [
       "Eq(Z_{in}, Z_{o}*(\\Gamma_{in} + 1)/(1 - Z_{in}))"
      ]
     },
     "execution_count": 10,
     "metadata": {},
     "output_type": "execute_result"
    }
   ],
   "source": [
    "##### IMPEDANCIA DE ENTRADA EN RELACIÓN CON COEFICIENTE DE REFLEXIÓN DE ENTRADA #####\n",
    "\n",
    "import sympy as sym\n",
    "import numpy as np\n",
    "\n",
    "#Variables para la fórmula del COEFICIENTE DE SALIDA.\n",
    "zin, zo, gin= sym.symbols('Z_{in}, Z_{o}, \\Gamma_{in}')\n",
    "\n",
    "eqzin= zo*(1+gin)/(1-zin)\n",
    "\n",
    "eq_zin= sym.Eq(zin, eqzin)\n",
    "\n",
    "#Fórmula para Overleaf\n",
    "sym.pprint(eq_zin)\n",
    "\n",
    "#Fórmula EQU\n",
    "eq_zin"
   ]
  },
  {
   "cell_type": "code",
   "execution_count": 11,
   "metadata": {},
   "outputs": [
    {
     "name": "stdout",
     "output_type": "stream",
     "text": [
      "          Z_{o}⋅(\\Gamma_{out} + 1)\n",
      "Z_{out} = ────────────────────────\n",
      "              1 - \\Gamma_{out}    \n"
     ]
    },
    {
     "data": {
      "text/latex": [
       "$\\displaystyle Z_{out} = \\frac{Z_{o} \\left(\\Gamma_{out} + 1\\right)}{1 - \\Gamma_{out}}$"
      ],
      "text/plain": [
       "Eq(Z_{out}, Z_{o}*(\\Gamma_{out} + 1)/(1 - \\Gamma_{out}))"
      ]
     },
     "execution_count": 11,
     "metadata": {},
     "output_type": "execute_result"
    }
   ],
   "source": [
    "##### IMPEDANCIA DE SALIDA EN RELACIÓN CON COEFICIENTE DE REFLEXIÓN DE SALIDA #####\n",
    "\n",
    "import sympy as sym\n",
    "import numpy as np\n",
    "\n",
    "#Variables para la fórmula del COEFICIENTE DE SALIDA.\n",
    "zout, zo, gout= sym.symbols('Z_{out}, Z_{o}, \\Gamma_{out}')\n",
    "\n",
    "\n",
    "\n",
    "eqzout= zo*(1+gout)/(1-gout)\n",
    "\n",
    "eq_zout= sym.Eq(zout, eqzout)\n",
    "\n",
    "#Fórmula para Overleaf\n",
    "sym.pprint(eq_zout)\n",
    "\n",
    "#Fórmula EQU\n",
    "eq_zout"
   ]
  },
  {
   "cell_type": "code",
   "execution_count": 12,
   "metadata": {},
   "outputs": [
    {
     "name": "stdout",
     "output_type": "stream",
     "text": [
      "(3+13j)\n"
     ]
    }
   ],
   "source": [
    "#Ejemplo complejos\n",
    "c= complex(1, 5)\n",
    "b= complex(2, 8)\n",
    "\n",
    "a=c+b\n",
    "\n",
    "print(a)"
   ]
  },
  {
   "cell_type": "markdown",
   "metadata": {},
   "source": [
    "# Cálculo de determinante"
   ]
  },
  {
   "cell_type": "code",
   "execution_count": 13,
   "metadata": {},
   "outputs": [
    {
     "name": "stdout",
     "output_type": "stream",
     "text": [
      "K= 1.0709974399632898\n",
      "dt= (0.102024184401-0.22484033949499999j)\n",
      "B1= 1.3397893615630838\n",
      "B2= 0.5382864135030839\n",
      "C1= (-0.5747216504775605+0.32692032502046525j)\n",
      "C2= (0.05856300987321959-0.2396485566716943j)\n"
     ]
    },
    {
     "ename": "NameError",
     "evalue": "name 'gamma_in_r' is not defined",
     "output_type": "error",
     "traceback": [
      "\u001b[1;31m---------------------------------------------------------------------------\u001b[0m",
      "\u001b[1;31mNameError\u001b[0m                                 Traceback (most recent call last)",
      "Cell \u001b[1;32mIn[13], line 51\u001b[0m\n\u001b[0;32m     45\u001b[0m \u001b[38;5;28mprint\u001b[39m(\u001b[38;5;124m\"\u001b[39m\u001b[38;5;124mC2=\u001b[39m\u001b[38;5;124m\"\u001b[39m,C2)\n\u001b[0;32m     49\u001b[0m gamma_in_m\u001b[38;5;241m=\u001b[39m \u001b[38;5;28mabs\u001b[39m((B1 \u001b[38;5;241m-\u001b[39m ((B1)\u001b[38;5;241m*\u001b[39m\u001b[38;5;241m*\u001b[39m\u001b[38;5;241m2\u001b[39m \u001b[38;5;241m-\u001b[39m \u001b[38;5;241m4\u001b[39m\u001b[38;5;241m*\u001b[39m(\u001b[38;5;28mabs\u001b[39m(C1))\u001b[38;5;241m*\u001b[39m\u001b[38;5;241m*\u001b[39m\u001b[38;5;241m2\u001b[39m)\u001b[38;5;241m*\u001b[39m\u001b[38;5;241m*\u001b[39m(\u001b[38;5;241m0.5\u001b[39m) )\u001b[38;5;241m/\u001b[39m(\u001b[38;5;241m2\u001b[39m\u001b[38;5;241m*\u001b[39m\u001b[38;5;28mabs\u001b[39m(C1)))\n\u001b[1;32m---> 51\u001b[0m \u001b[38;5;28mprint\u001b[39m(\u001b[38;5;124m\"\u001b[39m\u001b[38;5;124mgamma_in_m=\u001b[39m\u001b[38;5;124m\"\u001b[39m,\u001b[43mgamma_in_r\u001b[49m)\n\u001b[0;32m     53\u001b[0m \u001b[38;5;66;03m#now we calculate the angle of \"gamma_in_ang\", is equal to the angle of C1 in degrees\u001b[39;00m\n\u001b[0;32m     54\u001b[0m gamma_in_ang\u001b[38;5;241m=\u001b[39m np\u001b[38;5;241m.\u001b[39mrad2deg(cmath\u001b[38;5;241m.\u001b[39mphase(C1))\n",
      "\u001b[1;31mNameError\u001b[0m: name 'gamma_in_r' is not defined"
     ]
    }
   ],
   "source": [
    "##### COEFICIENTE DE ENTRADA #####\n",
    "\n",
    "import sympy as sym\n",
    "import numpy as np\n",
    "import cmath\n",
    "from cmath import sqrt\n",
    "import math as m\n",
    "\n",
    "\n",
    "#Variables para la fórmula del COEFICIENTE DE ENTRADA.\n",
    "K, B1, B2, C1, C2, dt= sym.symbols('K, B_{1}, B_{2}, C_{1}, C_{2}, \\Triangle')\n",
    "\n",
    "\n",
    "\n",
    "#dt= cmath.rect(0.247, -65.6)\n",
    "\n",
    "#s11= cmath.rect(0.656, 146.7)\n",
    "#s12= cmath.rect(0.122, 46.1)\n",
    "#s21= cmath.rect(2.3, 44.7)\n",
    "#s22= cmath.rect(0.172, -117.1)\n",
    "\n",
    "s11= complex(-0.548289, 0.360159)\n",
    "s12= complex(0.084595, 0.087907)\n",
    "s21= complex(1.634839, 1.617808)\n",
    "s22= complex(-0.078354, -0.153116)\n",
    "\n",
    "dt= s11*s22 - s12*s21\n",
    "\n",
    "\n",
    "K= (1- abs(s11)**2 - abs(s22)**2 + abs(dt)**2)/(2*abs(s12*s21))\n",
    "\n",
    "print(\"K=\",K)\n",
    "print(\"dt=\",dt)\n",
    "\n",
    "B1= 1+ abs(s11)**2 - abs(s22)**2 - abs(dt)**2\n",
    "B2= 1+ abs(s22)**2 - abs(s11)**2 - abs(dt)**2\n",
    "#ERROR\n",
    "C1= s11-(dt*s22.conjugate())\n",
    "#print(np.rad2deg(cmath.phase(C1)))\n",
    "C2= s22-(dt*s11.conjugate())\n",
    "\n",
    "print(\"B1=\",B1)\n",
    "print(\"B2=\",B2)\n",
    "print(\"C1=\",C1)\n",
    "print(\"C2=\",C2)\n",
    "\n",
    "\n",
    "\n",
    "gamma_in_m= abs((B1 - ((B1)**2 - 4*(abs(C1))**2)**(0.5) )/(2*abs(C1)))\n",
    "\n",
    "print(\"gamma_in_m=\",gamma_in_r)\n",
    "\n",
    "#now we calculate the angle of \"gamma_in_ang\", is equal to the angle of C1 in degrees\n",
    "gamma_in_ang= np.rad2deg(cmath.phase(C1))\n",
    "print(\"gamma_in_ang=\",gamma_in_ang)\n",
    "\n",
    "\n",
    "\n",
    "gamma_out_m= abs((B2 - ((B2)**2 - 4*(abs(C2))**2)**(0.5) )/(2*abs(C2)))\n",
    "\n",
    "print(\"gamma_out_m=\",gamma_out_m)\n",
    "\n",
    "#now we calculate the angle of \"gamma_out_ang\", is equal to the angle of C2 in degrees\n",
    "gamma_out_ang= np.rad2deg(cmath.phase(C2))\n",
    "print(\"gamma_out_ang=\",gamma_out_ang)\n",
    "\n",
    "\n",
    "#declare gamma_in and gamma_out as a complex number with the magnitude and angle calculated before\n",
    "gamma_in= cmath.rect(gamma_in_m, np.deg2rad(gamma_in_ang))\n",
    "gamma_out= cmath.rect(gamma_out_m, np.deg2rad(gamma_out_ang))\n",
    "\n",
    "\n",
    "print(\"gamma_in=\",gamma_in)\n",
    "print(\"gamma_out=\",gamma_out)\n",
    "\n",
    "zin= 50*(1+gamma_in)/(1-gamma_in)\n",
    "zout= 50*(1+gamma_out)/(1-gamma_out)\n",
    "\n",
    "print(\"zin=\",zin)\n",
    "print(\"zout=\",zout)\n",
    "\n",
    "\n",
    "\n",
    "\n",
    "\n",
    "\n",
    "\n",
    "\n",
    "\n",
    "\n",
    "#mag= cmath.phase(complex(gamma_in_r))\n",
    "#ang= cmath.polar(complex(gamma_in_r))\n",
    "\n",
    "#ang"
   ]
  },
  {
   "cell_type": "code",
   "execution_count": 17,
   "metadata": {},
   "outputs": [
    {
     "name": "stdout",
     "output_type": "stream",
     "text": [
      "A= 2.49656314699793\n",
      "B= 25.402130261147732\n",
      "w/H= 13.906854837112661\n",
      "Eef= 3.5579951373483065\n",
      "Zo= 21.932396405899805\n",
      "we= 0.005053548871851058\n"
     ]
    }
   ],
   "source": [
    "import sympy as sym\n",
    "import numpy as np\n",
    "import cmath\n",
    "from cmath import sqrt\n",
    "import math as m\n",
    "#Ecuaciones para diseno de microstrip Hammerstad\n",
    "\n",
    "#Variable utilizadas en las ecuaciones\n",
    "Zout=50\n",
    "er=4.6\n",
    "w=0.005\n",
    "t=0.000035\n",
    "H=0.0007874\n",
    "w_H=w/H\n",
    "\n",
    "#Ecuacion No. 7\n",
    "A=(Zout/60)*((er+1)/2)+((er-1)/(er+1))*(0.23+(0.11/er))\n",
    "\n",
    "#Ecuacion No. 8\n",
    "B=377*np.pi/(2*Zout)*(er)**0.5\n",
    "\n",
    "#Calculo de la relacion ancho sobre alto\n",
    "if (w_H)<=2:\n",
    "    #Ecuacion No. 5\n",
    "    w_H=(8*np.exp(A))/((np.exp(2*A))-2)\n",
    "else:\n",
    "    #Ecuacion No. 6\n",
    "    w_H=((2/np.pi)*(B-1-(np.log((2*B)-1))+(((er-1)/(2*er))*(np.log(B-1)+0.39-(0.61/er)))))\n",
    "\n",
    "\n",
    "#Calculo de la impedancia caracteristica\n",
    "if (w_H)<=1:\n",
    "    #Ecuacion No. 2 \n",
    "    Eef=((er+1)/2)+(((er-1)/2)*(1/(1+((12*H)/w))**0.5))+(0.04*(1-(w/H))**2)\n",
    "\n",
    "    #Ecuacion No. 1\n",
    "    Zo=(60/np.sqrt(Eef))*np.log((8*(H/w)+(w/(4*H))))    \n",
    "else:\n",
    "    #Ecuacion No. 4\n",
    "    Eef=((er+1)/2)+((er-1)/2)*(1/(1+(12*H/w)**0.5))\n",
    "\n",
    "    #Ecuacion No. 3\n",
    "    Zo=(120*np.pi)/(np.sqrt(Eef)*((w/H)+1.393+0.667*np.log(w/H+1.444)))\n",
    "\n",
    "\n",
    "#Calculo de ancho efectivo\n",
    "if (w_H)<=(1/2*np.pi):\n",
    "    #Ecuacion No. 9\n",
    "    we=w+((t/np.pi)*(1+np.log(4*np.pi*w/t)))\n",
    "else:\n",
    "    #Ecuacion No. 10\n",
    "    we=w+((t/np.pi)*(1+np.log(2*H/t)))\n",
    "\n",
    "\n",
    "print(\"A=\",A)\n",
    "print(\"B=\",B)\n",
    "print(\"w/H=\",w_H)\n",
    "print(\"Eef=\",Eef)\n",
    "print(\"Zo=\",Zo)\n",
    "print(\"we=\",we)\n",
    "\n"
   ]
  }
 ],
 "metadata": {
  "kernelspec": {
   "display_name": "Python 3",
   "language": "python",
   "name": "python3"
  },
  "language_info": {
   "codemirror_mode": {
    "name": "ipython",
    "version": 3
   },
   "file_extension": ".py",
   "mimetype": "text/x-python",
   "name": "python",
   "nbconvert_exporter": "python",
   "pygments_lexer": "ipython3",
   "version": "3.11.9"
  }
 },
 "nbformat": 4,
 "nbformat_minor": 2
}
