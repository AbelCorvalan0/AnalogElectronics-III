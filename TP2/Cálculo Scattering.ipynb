{
 "cells": [
  {
   "cell_type": "markdown",
   "metadata": {},
   "source": [
    "# TP2 - Electrónica Analógica III"
   ]
  },
  {
   "cell_type": "markdown",
   "metadata": {},
   "source": [
    "El análisis mediante parámetros Scattering se tiene debido a criterios de medición directa en redes de alta frecuencia.\n",
    "\n",
    "La matriz de Scattering provee de una descripción completa de N puertos. Esto involucra ondas de voltaje incidente en los puertos con las ondas reflejadas desde los puertos."
   ]
  },
  {
   "cell_type": "markdown",
   "metadata": {},
   "source": [
    "Se escriben las ecuaciones de los coeficientes de reflexión.\n",
    "\n",
    "$$ \\Gamma_{in}= \\frac{S_{11}S_{12\\Gamma_{L}}}{1-{S_{22}\\Gamma_{L}}} $$\n",
    "\n",
    "$$ \\Gamma_{out}= S_{22} + \\frac{}{} $$"
   ]
  },
  {
   "cell_type": "code",
   "execution_count": 26,
   "metadata": {},
   "outputs": [
    {
     "name": "stdout",
     "output_type": "stream",
     "text": [
      "              S_{11}⋅S_{12}⋅\\Gamma_{L}\n",
      "\\Gamma_{in} = ────────────────────────\n",
      "               -S_{22}⋅\\Gamma_{L} + 1 \n"
     ]
    },
    {
     "data": {
      "text/latex": [
       "$\\displaystyle \\Gamma_{in} = \\frac{S_{11} S_{12} \\Gamma_{L}}{- S_{22} \\Gamma_{L} + 1}$"
      ],
      "text/plain": [
       "Eq(\\Gamma_{in}, S_{11}*S_{12}*\\Gamma_{L}/(-S_{22}*\\Gamma_{L} + 1))"
      ]
     },
     "execution_count": 26,
     "metadata": {},
     "output_type": "execute_result"
    }
   ],
   "source": [
    "import sympy as sym\n",
    "import numpy as np\n",
    "\n",
    "#Variables para la fórmula del COEFICIENTE DE ENTRADA.\n",
    "gin, s11, s12, gl, s22= sym.symbols('\\Gamma_{in}, S_{11}, S_{12}, \\Gamma_{L}, S_{22}')\n",
    "\n",
    "eq_gin= (s11*s12*gl)/(1-s22*gl)\n",
    "\n",
    "eqin= sym.Eq(gin, eq_gin)\n",
    "\n",
    "#Fórmula para Overleaf\n",
    "sym.pprint(eqin)\n",
    "\n",
    "#Fórmula EQU\n",
    "eqin"
   ]
  },
  {
   "cell_type": "code",
   "execution_count": null,
   "metadata": {},
   "outputs": [],
   "source": [
    "import sympy as sym\n",
    "import numpy as np\n",
    "\n",
    "#Variables para la fórmula del COEFICIENTE DE ENTRADA.\n",
    "gin, s11, s12, gl, s22= sym.symbols('\\Gamma_{in}, S_{11}, S_{12}, \\Gamma_{L}, S_{22}')\n",
    "\n",
    "eq_gin= (s11*s12*gl)/(1-s22*gl)\n",
    "\n",
    "eqin= sym.Eq(gin, eq_gin)\n",
    "\n",
    "#Fórmula para Overleaf\n",
    "sym.pprint(eqin)\n",
    "\n",
    "#Fórmula EQU\n",
    "eqin"
   ]
  }
 ],
 "metadata": {
  "kernelspec": {
   "display_name": "Python 3",
   "language": "python",
   "name": "python3"
  },
  "language_info": {
   "codemirror_mode": {
    "name": "ipython",
    "version": 3
   },
   "file_extension": ".py",
   "mimetype": "text/x-python",
   "name": "python",
   "nbconvert_exporter": "python",
   "pygments_lexer": "ipython3",
   "version": "3.10.12"
  }
 },
 "nbformat": 4,
 "nbformat_minor": 2
}
