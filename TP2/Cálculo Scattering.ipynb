{
 "cells": [
  {
   "cell_type": "markdown",
   "metadata": {},
   "source": [
    "# TP2 - Electrónica Analógica III"
   ]
  },
  {
   "cell_type": "markdown",
   "metadata": {},
   "source": [
    "Se propone que la frecuencia para el diseño del amplificador es $1,5 - 2 \\space GHz$.\n",
    "\n",
    "BFP640\n",
    "BFP450 (mayor potencia)\n",
    "\n",
    "Cuando aumentamos la corriente de colector el transistor se vuelve más estable.\n",
    "\n",
    "$ F_{o= }1.6 Ghz $\n",
    "\n",
    "BFP640"
   ]
  },
  {
   "cell_type": "markdown",
   "metadata": {},
   "source": [
    "El análisis mediante parámetros Scattering se tiene debido a criterios de medición directa en redes de alta frecuencia.\n",
    "\n",
    "La matriz de Scattering provee de una descripción completa de N puertos. Esto involucra ondas de voltaje incidente en los puertos con las ondas reflejadas desde los puertos."
   ]
  },
  {
   "cell_type": "markdown",
   "metadata": {},
   "source": [
    "Se escriben las ecuaciones de los coeficientes de reflexión.\n",
    "\n",
    "$$ \\boxed{ \\Gamma_{in}= \\frac{S_{11}S_{12\\Gamma_{L}}}{1-{S_{22} \\Gamma_{L}}} } $$\n",
    "\n",
    "\n",
    "$$ \\boxed{ \\Gamma_{out}= S_{22} + \\frac{S_{12}S_{21}\\Gamma_{S}}{1-S_{22}\\Gamma_{L}} } $$"
   ]
  },
  {
   "cell_type": "code",
   "execution_count": 7,
   "metadata": {},
   "outputs": [
    {
     "name": "stdout",
     "output_type": "stream",
     "text": [
      "              \\Gamma_{L}⋅(-0.07624 - 0.02052⋅ⅈ)\n",
      "\\Gamma_{in} = ─────────────────────────────────\n",
      "               -\\Gamma_{L}⋅(-0.08 + 0.15⋅ⅈ) + 1\n"
     ]
    },
    {
     "data": {
      "text/latex": [
       "$\\displaystyle \\Gamma_{in} = \\frac{\\Gamma_{L} \\left(-0.07624 - 0.02052 i\\right)}{- \\Gamma_{L} \\left(-0.08 + 0.15 i\\right) + 1}$"
      ],
      "text/plain": [
       "Eq(\\Gamma_{in}, \\Gamma_{L}*(-0.07624 - 0.02052*I)/(-\\Gamma_{L}*(-0.08 + 0.15*I) + 1))"
      ]
     },
     "execution_count": 7,
     "metadata": {},
     "output_type": "execute_result"
    }
   ],
   "source": [
    "##### COEFICIENTE DE ENTRADA #####\n",
    "\n",
    "import sympy as sym\n",
    "import numpy as np\n",
    "import cmath\n",
    "\n",
    "#Variables para la fórmula del COEFICIENTE DE ENTRADA.\n",
    "gin, s11, s12, gl, s22= sym.symbols('\\Gamma_{in}, S_{11}, S_{12}, \\Gamma_{L}, S_{22}')\n",
    "\n",
    "s11= complex(-0.548, 0.36)\n",
    "s12= complex(0.08, 0.09)\n",
    "s21= complex(1.63, 1.62)\n",
    "s22= complex(-0.08, 0.15)\n",
    "\n",
    "eqgin= (s11*s12*gl)/(1-s22*gl)\n",
    "\n",
    "eq_gin= sym.Eq(gin, eqgin)\n",
    "\n",
    "#Fórmula para Overleaf\n",
    "sym.pprint(eq_gin)\n",
    "\n",
    "#Fórmula EQU\n",
    "eq_gin"
   ]
  },
  {
   "cell_type": "code",
   "execution_count": 8,
   "metadata": {},
   "outputs": [
    {
     "name": "stdout",
     "output_type": "stream",
     "text": [
      "               S_{12}⋅S_{21}⋅\\Gamma_{S}         \n",
      "\\Gamma_{out} = ──────────────────────── + S_{22}\n",
      "                -S_{22}⋅\\Gamma_{S} + 1          \n"
     ]
    },
    {
     "data": {
      "text/latex": [
       "$\\displaystyle \\Gamma_{out} = \\frac{S_{12} S_{21} \\Gamma_{S}}{- S_{22} \\Gamma_{S} + 1} + S_{22}$"
      ],
      "text/plain": [
       "Eq(\\Gamma_{out}, S_{12}*S_{21}*\\Gamma_{S}/(-S_{22}*\\Gamma_{S} + 1) + S_{22})"
      ]
     },
     "execution_count": 8,
     "metadata": {},
     "output_type": "execute_result"
    }
   ],
   "source": [
    "##### COEFICIENTE DE SALIDA #####\n",
    "\n",
    "import sympy as sym\n",
    "import numpy as np\n",
    "\n",
    "#Variables para la fórmula del COEFICIENTE DE SALIDA.\n",
    "gout, s22, s12, s21, gs, s11= sym.symbols('\\Gamma_{out}, S_{22}, S_{12}, S_{21}, \\Gamma_{S}, S_{11}')\n",
    "\n",
    "eqgout= (s22+(s12*s21*gs)/(1-s22*gs))\n",
    "\n",
    "eq_gout= sym.Eq(gout, eqgout)\n",
    "\n",
    "#Fórmula para Overleaf\n",
    "sym.pprint(eq_gout)\n",
    "\n",
    "#Fórmula EQU\n",
    "eq_gout"
   ]
  },
  {
   "cell_type": "markdown",
   "metadata": {},
   "source": [
    "Se escriben las fórmulas que relacionan los coeficientes de reflexión $\\Gamma_{in}$ y $\\Gamma_{out}$ con las impedancias de entrada $Z_{out}$ y $Z_{in}$ correspondientemente.\n",
    "\n",
    "\n",
    "$$ \\boxed{ Z_{in}= Z_{o} \\space \\frac{1+\\Gamma_{in}}{1-\\Gamma_{out}} } $$\n",
    "\n",
    "$$ \\boxed{ Z_{out}= Z_{o} \\space \\frac{1+\\Gamma_{out}}{1-\\Gamma_{out}} } $$"
   ]
  },
  {
   "cell_type": "code",
   "execution_count": 9,
   "metadata": {},
   "outputs": [
    {
     "name": "stdout",
     "output_type": "stream",
     "text": [
      "         Z_{o}⋅(\\Gamma_{in} + 1)\n",
      "Z_{in} = ───────────────────────\n",
      "                1 - Z_{in}      \n"
     ]
    },
    {
     "data": {
      "text/latex": [
       "$\\displaystyle Z_{in} = \\frac{Z_{o} \\left(\\Gamma_{in} + 1\\right)}{1 - Z_{in}}$"
      ],
      "text/plain": [
       "Eq(Z_{in}, Z_{o}*(\\Gamma_{in} + 1)/(1 - Z_{in}))"
      ]
     },
     "execution_count": 9,
     "metadata": {},
     "output_type": "execute_result"
    }
   ],
   "source": [
    "##### IMPEDANCIA DE ENTRADA EN RELACIÓN CON COEFICIENTE DE REFLEXIÓN DE ENTRADA #####\n",
    "\n",
    "import sympy as sym\n",
    "import numpy as np\n",
    "\n",
    "#Variables para la fórmula del COEFICIENTE DE SALIDA.\n",
    "zin, zo, gin= sym.symbols('Z_{in}, Z_{o}, \\Gamma_{in}')\n",
    "\n",
    "eqzin= zo*(1+gin)/(1-zin)\n",
    "\n",
    "eq_zin= sym.Eq(zin, eqzin)\n",
    "\n",
    "#Fórmula para Overleaf\n",
    "sym.pprint(eq_zin)\n",
    "\n",
    "#Fórmula EQU\n",
    "eq_zin"
   ]
  },
  {
   "cell_type": "code",
   "execution_count": 10,
   "metadata": {},
   "outputs": [
    {
     "name": "stdout",
     "output_type": "stream",
     "text": [
      "          Z_{o}⋅(\\Gamma_{out} + 1)\n",
      "Z_{out} = ────────────────────────\n",
      "              1 - \\Gamma_{out}    \n"
     ]
    },
    {
     "data": {
      "text/latex": [
       "$\\displaystyle Z_{out} = \\frac{Z_{o} \\left(\\Gamma_{out} + 1\\right)}{1 - \\Gamma_{out}}$"
      ],
      "text/plain": [
       "Eq(Z_{out}, Z_{o}*(\\Gamma_{out} + 1)/(1 - \\Gamma_{out}))"
      ]
     },
     "execution_count": 10,
     "metadata": {},
     "output_type": "execute_result"
    }
   ],
   "source": [
    "##### IMPEDANCIA DE SALIDA EN RELACIÓN CON COEFICIENTE DE REFLEXIÓN DE SALIDA #####\n",
    "\n",
    "import sympy as sym\n",
    "import numpy as np\n",
    "\n",
    "#Variables para la fórmula del COEFICIENTE DE SALIDA.\n",
    "zout, zo, gout= sym.symbols('Z_{out}, Z_{o}, \\Gamma_{out}')\n",
    "\n",
    "eqzout= zo*(1+gout)/(1-gout)\n",
    "\n",
    "eq_zout= sym.Eq(zout, eqzout)\n",
    "\n",
    "#Fórmula para Overleaf\n",
    "sym.pprint(eq_zout)\n",
    "\n",
    "#Fórmula EQU\n",
    "eq_zout"
   ]
  },
  {
   "cell_type": "code",
   "execution_count": 11,
   "metadata": {},
   "outputs": [
    {
     "name": "stdout",
     "output_type": "stream",
     "text": [
      "(3+13j)\n"
     ]
    }
   ],
   "source": [
    "#Ejemplo complejos\n",
    "c= complex(1, 5)\n",
    "b= complex(2, 8)\n",
    "\n",
    "a=c+b\n",
    "\n",
    "print(a)"
   ]
  },
  {
   "cell_type": "markdown",
   "metadata": {},
   "source": [
    "# Cálculo de determinante"
   ]
  },
  {
   "cell_type": "code",
   "execution_count": 1,
   "metadata": {},
   "outputs": [
    {
     "data": {
      "text/plain": [
       "(1.0593992884317014+0.9049059951808494j)"
      ]
     },
     "execution_count": 1,
     "metadata": {},
     "output_type": "execute_result"
    }
   ],
   "source": [
    "##### COEFICIENTE DE ENTRADA #####\n",
    "\n",
    "import sympy as sym\n",
    "import numpy as np\n",
    "import cmath\n",
    "from cmath import sqrt\n",
    "import math as m\n",
    "\n",
    "\n",
    "#Variables para la fórmula del COEFICIENTE DE ENTRADA.\n",
    "B1, B2, C1, C2, dt= sym.symbols('B_{1}, B_{2}, C_{1}, C_{2}, \\Triangle')\n",
    "\n",
    "dt= cmath.rect(0.247, -65.6)\n",
    "\n",
    "s11= cmath.rect(0.656, 146.7)\n",
    "\n",
    "s12= cmath.rect(0.122, 46.1)\n",
    "s21= cmath.rect(2.3, 44.7)\n",
    "s22= cmath.rect(0.172, -117.1)\n",
    "\n",
    "\n",
    "B1= 1+ abs(s11)**2 - abs(s22)**2 - abs(dt)**2\n",
    "B2= 1+ abs(s22)**2 - abs(s11)**2 - abs(dt)**2\n",
    "#ERROR\n",
    "C1= s11-(dt*s22.conjugate())\n",
    "C2= s22-(dt*s11.conjugate())\n",
    "\n",
    "gamma_in_r= (B1 + ((B2)**2 - 4*(abs(C1))**2)**(0.5) )/(2*abs(C1))\n",
    "\n",
    "gamma_in_r"
   ]
  },
  {
   "cell_type": "code",
   "execution_count": null,
   "metadata": {},
   "outputs": [],
   "source": []
  }
 ],
 "metadata": {
  "kernelspec": {
   "display_name": "Python 3",
   "language": "python",
   "name": "python3"
  },
  "language_info": {
   "codemirror_mode": {
    "name": "ipython",
    "version": 3
   },
   "file_extension": ".py",
   "mimetype": "text/x-python",
   "name": "python",
   "nbconvert_exporter": "python",
   "pygments_lexer": "ipython3",
   "version": "3.10.12"
  }
 },
 "nbformat": 4,
 "nbformat_minor": 2
}
