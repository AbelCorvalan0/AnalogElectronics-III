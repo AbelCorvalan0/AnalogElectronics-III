{
 "cells": [
  {
   "cell_type": "markdown",
   "metadata": {},
   "source": [
    "# TP2 - Electrónica Analógica III"
   ]
  },
  {
   "cell_type": "markdown",
   "metadata": {},
   "source": [
    "El análisis mediante parámetros Scattering se tiene debido a criterios de medición directa en redes de alta frecuencia.\n",
    "\n",
    "La matriz de Scattering provee de una descripción completa de N puertos. Esto involucra ondas de voltaje incidente en los puertos con las ondas reflejadas desde los puertos."
   ]
  },
  {
   "cell_type": "markdown",
   "metadata": {},
   "source": [
    "Se escriben las ecuaciones de los coeficientes de reflexión.\n",
    "\n",
    "$$ \\boxed{ \\Gamma_{in}= \\frac{S_{11}S_{12\\Gamma_{L}}}{1-{S_{22}\\Gamma_{L}}} } $$\n",
    "\n",
    "\n",
    "$$ \\boxed{ \\Gamma_{out}= S_{22} + \\frac{S_{12}S_{21}\\Gamma_{S}}{1-S_{22}\\Gamma_{L}} } $$"
   ]
  },
  {
   "cell_type": "code",
   "execution_count": 8,
   "metadata": {},
   "outputs": [
    {
     "name": "stdout",
     "output_type": "stream",
     "text": [
      "              S_{11}⋅S_{12}⋅\\Gamma_{L}\n",
      "\\Gamma_{in} = ────────────────────────\n",
      "               -S_{22}⋅\\Gamma_{L} + 1 \n"
     ]
    },
    {
     "data": {
      "text/latex": [
       "$\\displaystyle \\Gamma_{in} = \\frac{S_{11} S_{12} \\Gamma_{L}}{- S_{22} \\Gamma_{L} + 1}$"
      ],
      "text/plain": [
       "Eq(\\Gamma_{in}, S_{11}*S_{12}*\\Gamma_{L}/(-S_{22}*\\Gamma_{L} + 1))"
      ]
     },
     "execution_count": 8,
     "metadata": {},
     "output_type": "execute_result"
    }
   ],
   "source": [
    "##### COEFICIENTE DE ENTRADA #####\n",
    "\n",
    "import sympy as sym\n",
    "import numpy as np\n",
    "\n",
    "#Variables para la fórmula del COEFICIENTE DE ENTRADA.\n",
    "gin, s11, s12, gl, s22= sym.symbols('\\Gamma_{in}, S_{11}, S_{12}, \\Gamma_{L}, S_{22}')\n",
    "\n",
    "eqgin= (s11*s12*gl)/(1-s22*gl)\n",
    "\n",
    "eq_gin= sym.Eq(gin, eqgin)\n",
    "\n",
    "#Fórmula para Overleaf\n",
    "sym.pprint(eq_gin)\n",
    "\n",
    "#Fórmula EQU\n",
    "eq_gin"
   ]
  },
  {
   "cell_type": "code",
   "execution_count": 10,
   "metadata": {},
   "outputs": [
    {
     "name": "stdout",
     "output_type": "stream",
     "text": [
      "               S_{12}⋅S_{21}⋅\\Gamma_{S}         \n",
      "\\Gamma_{out} = ──────────────────────── + S_{22}\n",
      "                -S_{22}⋅\\Gamma_{S} + 1          \n"
     ]
    },
    {
     "data": {
      "text/latex": [
       "$\\displaystyle \\Gamma_{out} = \\frac{S_{12} S_{21} \\Gamma_{S}}{- S_{22} \\Gamma_{S} + 1} + S_{22}$"
      ],
      "text/plain": [
       "Eq(\\Gamma_{out}, S_{12}*S_{21}*\\Gamma_{S}/(-S_{22}*\\Gamma_{S} + 1) + S_{22})"
      ]
     },
     "execution_count": 10,
     "metadata": {},
     "output_type": "execute_result"
    }
   ],
   "source": [
    "##### COEFICIENTE DE SALIDA #####\n",
    "\n",
    "import sympy as sym\n",
    "import numpy as np\n",
    "\n",
    "#Variables para la fórmula del COEFICIENTE DE SALIDA.\n",
    "gout, s22, s12, s21, gs, s11= sym.symbols('\\Gamma_{out}, S_{22}, S_{12}, S_{21}, \\Gamma_{S}, S_{11}')\n",
    "\n",
    "eqgout= (s22+(s12*s21*gs)/(1-s22*gs))\n",
    "\n",
    "eq_gout= sym.Eq(gout, eqgout)\n",
    "\n",
    "#Fórmula para Overleaf\n",
    "sym.pprint(eq_gout)\n",
    "\n",
    "#Fórmula EQU\n",
    "eq_gout"
   ]
  },
  {
   "cell_type": "markdown",
   "metadata": {},
   "source": [
    "Se escriben las fórmulas que relacionan los coeficientes de reflexión $\\Gamma_{in}$ y $\\Gamma_{out}$ con las impedancias de entrada $Z_{out}$ y $Z_{in}$ correspondientemente."
   ]
  }
 ],
 "metadata": {
  "kernelspec": {
   "display_name": "Python 3",
   "language": "python",
   "name": "python3"
  },
  "language_info": {
   "codemirror_mode": {
    "name": "ipython",
    "version": 3
   },
   "file_extension": ".py",
   "mimetype": "text/x-python",
   "name": "python",
   "nbconvert_exporter": "python",
   "pygments_lexer": "ipython3",
   "version": "3.10.12"
  }
 },
 "nbformat": 4,
 "nbformat_minor": 2
}
