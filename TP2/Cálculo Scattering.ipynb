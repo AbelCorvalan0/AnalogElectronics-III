{
 "cells": [
  {
   "cell_type": "markdown",
   "metadata": {},
   "source": [
    "# TP2 - Electrónica Analógica III"
   ]
  },
  {
   "cell_type": "markdown",
   "metadata": {},
   "source": [
    "El análisis mediante parámetros Scattering se tiene debido a criterios de medición directa en redes de alta frecuencia.\n",
    "\n",
    "La matriz de Scattering provee de una descripción completa de N puertos. Esto involucra ondas de voltaje incidente en los puertos con las ondas reflejadas desde los puertos."
   ]
  },
  {
   "cell_type": "markdown",
   "metadata": {},
   "source": [
    "## Consigna"
   ]
  },
  {
   "cell_type": "markdown",
   "metadata": {},
   "source": [
    "Se propone que la frecuencia para el diseño del amplificador es $1,5 - 2 \\space GHz$.\n",
    "\n",
    "BFP640\n",
    "BFP450 (mayor potencia)\n",
    "\n",
    "Cuando aumentamos la corriente de colector el transistor se vuelve más estable.\n",
    "\n",
    "$ F_{o}= 1.6 Ghz $\n",
    "\n",
    "BFP640"
   ]
  },
  {
   "cell_type": "markdown",
   "metadata": {},
   "source": [
    "Se tienen las siguientes especificaciones para el diseño del amplificador.\n",
    "\n",
    "$$ V_{CE}= 13V $$\n",
    "$$ I_{C}= 50mA $$"
   ]
  },
  {
   "cell_type": "markdown",
   "metadata": {},
   "source": [
    "## Análisis de estabilidad del sistema."
   ]
  },
  {
   "cell_type": "code",
   "execution_count": 1,
   "metadata": {},
   "outputs": [
    {
     "name": "stdout",
     "output_type": "stream",
     "text": [
      "Los valores son los siguientes:  0.042128360508193276  e  -0.0879286713244986\n",
      "K= 1.1226320258553335\n",
      "dt= (0.2076474731-0.20588547689999998j)\n",
      "El valor absoluto de dt es:  0.2924146075064576\n",
      "B1= 1.2166827448378443\n",
      "B2= 0.6123046497958442\n",
      "C1= (-0.57512829203702+0.095615565692j)\n",
      "C2= (0.1776099775484059-0.17894022807390408j)\n",
      "gamma_in_m= 0.7455334264659066\n",
      "gamma_in_ang= 170.56086015400996\n",
      "gamma_out_m= 0.5254365400831593\n",
      "gamma_out_ang= -45.213763408260846\n",
      "gamma_in= (-0.7354391725060446+0.12226738535529318j)\n",
      "gamma_out= (0.3701509895449676-0.3729233199914464j)\n",
      "zin= (7.3376968264672815+4.039628921792261j)\n",
      "zout= (67.55704855370641-69.60360992449914j)\n"
     ]
    }
   ],
   "source": [
    "##### COEFICIENTE DE ENTRADA #####\n",
    "\n",
    "import sympy as sym\n",
    "import numpy as np\n",
    "import cmath\n",
    "from cmath import sqrt\n",
    "import math as m\n",
    "\n",
    "\n",
    "#Variables para la fórmula del COEFICIENTE DE ENTRADA.\n",
    "K, B1, B2, C1, C2, dt= sym.symbols('K, B_{1}, B_{2}, C_{1}, C_{2}, \\Triangle')\n",
    "\n",
    "# def rect_to_polar(x, y):\n",
    "#      r = m.sqrt(x**2 + y**2)\n",
    "#      theta = m.atan2(y, x)\n",
    "#      return r, theta\n",
    "\n",
    "def polar_to_rectangular(r, theta):\n",
    "    x = r * m.cos(m.radians(theta))  # Convertimos theta a radianes\n",
    "    y = r * m.sin(m.radians(theta))\n",
    "    return x, y\n",
    "\n",
    "# Ejemplo de uso\n",
    "r1= 0.5566  # Magnitud\n",
    "t1= 169.1  # Ángulo en grados\n",
    "\n",
    "r2= 7.249\n",
    "t2= 77.8\n",
    "\n",
    "r3= 0.047\n",
    "t3= 52.8\n",
    "\n",
    "r4= 0.0975\n",
    "t4= -64.4\n",
    "\n",
    "x, y= polar_to_rectangular(r4, t4)\n",
    "print('Los valores son los siguientes: ', x, ' e ', y)\n",
    "\n",
    "s11= complex(-0.548289, 0.1052)\n",
    "s21= complex(1.5318, 7.0852)\n",
    "s12= complex(0.0284, 0.0374)\n",
    "s22= complex(0.0421, -0.0879)\n",
    "\n",
    "\n",
    "\n",
    "dt= s11*s22 - s12*s21\n",
    "\n",
    "K= (1- abs(s11)**2 - abs(s22)**2 + abs(dt)**2)/(2*abs(s12*s21))\n",
    "\n",
    "print(\"K=\",K)\n",
    "print(\"dt=\", dt)\n",
    "print('El valor absoluto de dt es: ', abs(dt))\n",
    "\n",
    "B1= 1+ abs(s11)**2 - abs(s22)**2 - abs(dt)**2\n",
    "B2= 1+ abs(s22)**2 - abs(s11)**2 - abs(dt)**2\n",
    "#ERROR\n",
    "C1= s11-(dt*s22.conjugate())\n",
    "#print(np.rad2deg(cmath.phase(C1)))\n",
    "C2= s22-(dt*s11.conjugate())\n",
    "\n",
    "print(\"B1=\",B1)\n",
    "print(\"B2=\",B2)\n",
    "print(\"C1=\",C1)\n",
    "print(\"C2=\",C2)\n",
    "\n",
    "\n",
    "\n",
    "gamma_in_m= abs((B1 - ((B1)**2 - 4*(abs(C1))**2)**(0.5) )/(2*abs(C1)))\n",
    "\n",
    "print(\"gamma_in_m=\",gamma_in_m)\n",
    "\n",
    "#now we calculate the angle of \"gamma_in_ang\", is equal to the angle of C1 in degrees\n",
    "gamma_in_ang= np.rad2deg(cmath.phase(C1))\n",
    "print(\"gamma_in_ang=\",gamma_in_ang)\n",
    "\n",
    "\n",
    "\n",
    "gamma_out_m= abs((B2 - ((B2)**2 - 4*(abs(C2))**2)**(0.5) )/(2*abs(C2)))\n",
    "\n",
    "print(\"gamma_out_m=\",gamma_out_m)\n",
    "\n",
    "#now we calculate the angle of \"gamma_out_ang\", is equal to the angle of C2 in degrees\n",
    "gamma_out_ang= np.rad2deg(cmath.phase(C2))\n",
    "print(\"gamma_out_ang=\",gamma_out_ang)\n",
    "\n",
    "\n",
    "#declare gamma_in and gamma_out as a complex number with the magnitude and angle calculated before\n",
    "gamma_in= cmath.rect(gamma_in_m, np.deg2rad(gamma_in_ang))\n",
    "gamma_out= cmath.rect(gamma_out_m, np.deg2rad(gamma_out_ang))\n",
    "\n",
    "\n",
    "print(\"gamma_in=\",gamma_in)\n",
    "print(\"gamma_out=\",gamma_out)\n",
    "\n",
    "zin= 50*(1+gamma_in)/(1-gamma_in)\n",
    "zout= 50*(1+gamma_out)/(1-gamma_out)\n",
    "\n",
    "print(\"zin=\",zin)\n",
    "print(\"zout=\",zout)"
   ]
  },
  {
   "cell_type": "markdown",
   "metadata": {},
   "source": [
    "## Cálculo de coeficientes de reflexión"
   ]
  },
  {
   "cell_type": "markdown",
   "metadata": {},
   "source": [
    "Se escriben las ecuaciones de los coeficientes de reflexión.\n",
    "\n",
    "$$ \\boxed{ \\Gamma_{in}= \\frac{S_{11}S_{12}\\Gamma_{L}}{1-{S_{22} \\Gamma_{L}}} } $$\n",
    "\n",
    "\n",
    "$$ \\boxed{ \\Gamma_{out}= S_{22} + \\frac{S_{12}S_{21}\\Gamma_{S}}{1-S_{22}\\Gamma_{L}} } $$"
   ]
  },
  {
   "cell_type": "code",
   "execution_count": 4,
   "metadata": {},
   "outputs": [
    {
     "name": "stdout",
     "output_type": "stream",
     "text": [
      "S_{11}\n",
      "              S_{11}⋅S_{12}⋅\\Gamma_{L}\n",
      "\\Gamma_{in} = ────────────────────────\n",
      "               -S_{22}⋅\\Gamma_{L} + 1 \n"
     ]
    },
    {
     "data": {
      "text/latex": [
       "$\\displaystyle \\Gamma_{in} = \\frac{S_{11} S_{12} \\Gamma_{L}}{- S_{22} \\Gamma_{L} + 1}$"
      ],
      "text/plain": [
       "Eq(\\Gamma_{in}, S_{11}*S_{12}*\\Gamma_{L}/(-S_{22}*\\Gamma_{L} + 1))"
      ]
     },
     "execution_count": 4,
     "metadata": {},
     "output_type": "execute_result"
    }
   ],
   "source": [
    "##### COEFICIENTE DE ENTRADA #####\n",
    "\n",
    "import sympy as sym\n",
    "import numpy as np\n",
    "import cmath\n",
    "\n",
    "#Variables para la fórmula del COEFICIENTE DE ENTRADA.\n",
    "# gin, s11, s12, gl, s22= sym.symbols('\\Gamma_{in}, S_{11}, S_{12}, \\Gamma_{L}, S_{22}')\n",
    "gin, s11, s12, gl, s22= sym.symbols('\\Gamma_{in}, S_{11}, S_{12}, \\Gamma_{L}, S_{22}')\n",
    "\n",
    "print(s11)\n",
    "\n",
    "eqgin= (s11*s12*gl)/(1-s22*gl)\n",
    "\n",
    "eq_gin= sym.Eq(gin, eqgin)\n",
    "\n",
    "#Fórmula para Overleaf\n",
    "sym.pprint(eq_gin)\n",
    "\n",
    "#Fórmula EQU\n",
    "eq_gin"
   ]
  },
  {
   "cell_type": "code",
   "execution_count": 5,
   "metadata": {},
   "outputs": [
    {
     "name": "stdout",
     "output_type": "stream",
     "text": [
      "               S_{12}⋅S_{21}⋅\\Gamma_{S}         \n",
      "\\Gamma_{out} = ──────────────────────── + S_{22}\n",
      "                -S_{22}⋅\\Gamma_{S} + 1          \n"
     ]
    },
    {
     "data": {
      "text/latex": [
       "$\\displaystyle \\Gamma_{out} = \\frac{S_{12} S_{21} \\Gamma_{S}}{- S_{22} \\Gamma_{S} + 1} + S_{22}$"
      ],
      "text/plain": [
       "Eq(\\Gamma_{out}, S_{12}*S_{21}*\\Gamma_{S}/(-S_{22}*\\Gamma_{S} + 1) + S_{22})"
      ]
     },
     "execution_count": 5,
     "metadata": {},
     "output_type": "execute_result"
    }
   ],
   "source": [
    "##### COEFICIENTE DE SALIDA #####\n",
    "\n",
    "import sympy as sym\n",
    "import numpy as np\n",
    "\n",
    "#Variables para la fórmula del COEFICIENTE DE SALIDA.\n",
    "gout, s22, s12, s21, gs, s11= sym.symbols('\\Gamma_{out}, S_{22}, S_{12}, S_{21}, \\Gamma_{S}, S_{11}')\n",
    "\n",
    "eqgout= (s22+(s12*s21*gs)/(1-s22*gs))\n",
    "\n",
    "eq_gout= sym.Eq(gout, eqgout)\n",
    "\n",
    "#Fórmula para Overleaf\n",
    "sym.pprint(eq_gout)\n",
    "\n",
    "#Fórmula EQU\n",
    "eq_gout"
   ]
  },
  {
   "cell_type": "markdown",
   "metadata": {},
   "source": [
    "Se escriben las fórmulas que relacionan los coeficientes de reflexión $\\Gamma_{in}$ y $\\Gamma_{out}$ con las impedancias de entrada $Z_{out}$ y $Z_{in}$ correspondientemente.\n",
    "\n",
    "\n",
    "$$ \\boxed{ Z_{in}= Z_{o} \\space \\frac{1+\\Gamma_{in}}{1-\\Gamma_{out}} } $$\n",
    "\n",
    "$$ \\boxed{ Z_{out}= Z_{o} \\space \\frac{1+\\Gamma_{out}}{1-\\Gamma_{out}} } $$"
   ]
  },
  {
   "cell_type": "code",
   "execution_count": 6,
   "metadata": {},
   "outputs": [
    {
     "name": "stdout",
     "output_type": "stream",
     "text": [
      "         Z_{o}⋅(\\Gamma_{in} + 1)\n",
      "Z_{in} = ───────────────────────\n",
      "                1 - Z_{in}      \n"
     ]
    },
    {
     "data": {
      "text/latex": [
       "$\\displaystyle Z_{in} = \\frac{Z_{o} \\left(\\Gamma_{in} + 1\\right)}{1 - Z_{in}}$"
      ],
      "text/plain": [
       "Eq(Z_{in}, Z_{o}*(\\Gamma_{in} + 1)/(1 - Z_{in}))"
      ]
     },
     "execution_count": 6,
     "metadata": {},
     "output_type": "execute_result"
    }
   ],
   "source": [
    "##### IMPEDANCIA DE ENTRADA EN RELACIÓN CON COEFICIENTE DE REFLEXIÓN DE ENTRADA #####\n",
    "\n",
    "import sympy as sym\n",
    "import numpy as np\n",
    "\n",
    "#Variables para la fórmula del COEFICIENTE DE SALIDA.\n",
    "zin, zo, gin= sym.symbols('Z_{in}, Z_{o}, \\Gamma_{in}')\n",
    "\n",
    "eqzin= zo*(1+gin)/(1-zin)\n",
    "\n",
    "eq_zin= sym.Eq(zin, eqzin)\n",
    "\n",
    "#Fórmula para Overleaf\n",
    "sym.pprint(eq_zin)\n",
    "\n",
    "#Fórmula EQU\n",
    "eq_zin"
   ]
  },
  {
   "cell_type": "code",
   "execution_count": 7,
   "metadata": {},
   "outputs": [
    {
     "name": "stdout",
     "output_type": "stream",
     "text": [
      "          Z_{o}⋅(\\Gamma_{out} + 1)\n",
      "Z_{out} = ────────────────────────\n",
      "              1 - \\Gamma_{out}    \n"
     ]
    },
    {
     "data": {
      "text/latex": [
       "$\\displaystyle Z_{out} = \\frac{Z_{o} \\left(\\Gamma_{out} + 1\\right)}{1 - \\Gamma_{out}}$"
      ],
      "text/plain": [
       "Eq(Z_{out}, Z_{o}*(\\Gamma_{out} + 1)/(1 - \\Gamma_{out}))"
      ]
     },
     "execution_count": 7,
     "metadata": {},
     "output_type": "execute_result"
    }
   ],
   "source": [
    "##### IMPEDANCIA DE SALIDA EN RELACIÓN CON COEFICIENTE DE REFLEXIÓN DE SALIDA #####\n",
    "\n",
    "import sympy as sym\n",
    "import numpy as np\n",
    "\n",
    "#Variables para la fórmula del COEFICIENTE DE SALIDA.\n",
    "zout, zo, gout= sym.symbols('Z_{out}, Z_{o}, \\Gamma_{out}')\n",
    "\n",
    "\n",
    "\n",
    "eqzout= zo*(1+gout)/(1-gout)\n",
    "\n",
    "eq_zout= sym.Eq(zout, eqzout)\n",
    "\n",
    "#Fórmula para Overleaf\n",
    "sym.pprint(eq_zout)\n",
    "\n",
    "#Fórmula EQU\n",
    "eq_zout"
   ]
  }
 ],
 "metadata": {
  "kernelspec": {
   "display_name": "Python 3",
   "language": "python",
   "name": "python3"
  },
  "language_info": {
   "codemirror_mode": {
    "name": "ipython",
    "version": 3
   },
   "file_extension": ".py",
   "mimetype": "text/x-python",
   "name": "python",
   "nbconvert_exporter": "python",
   "pygments_lexer": "ipython3",
   "version": "3.10.12"
  }
 },
 "nbformat": 4,
 "nbformat_minor": 2
}
