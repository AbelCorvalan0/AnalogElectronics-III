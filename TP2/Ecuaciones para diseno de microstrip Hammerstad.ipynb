{
 "cells": [
  {
   "cell_type": "code",
   "execution_count": 1,
   "metadata": {},
   "outputs": [
    {
     "name": "stdout",
     "output_type": "stream",
     "text": [
      "A= 2.49656314699793\n",
      "B= 25.402130261147732\n",
      "w/H= 13.906854837112661\n",
      "Eef= 3.5579951373483065\n",
      "Zo= 21.932396405899805\n",
      "we= 0.005053548871851058\n"
     ]
    }
   ],
   "source": [
    "import sympy as sym\n",
    "import numpy as np\n",
    "import cmath\n",
    "from cmath import sqrt\n",
    "import math as m\n",
    "#Ecuaciones para diseno de microstrip Hammerstad\n",
    "\n",
    "#Variable utilizadas en las ecuaciones\n",
    "zout=50\n",
    "er=4.6\n",
    "w=0.005\n",
    "t=0.000035\n",
    "H=0.0007874\n",
    "w_H=w/H\n",
    "\n",
    "#Ecuacion No. 7\n",
    "A=(zout/60)*((er+1)/2)+((er-1)/(er+1))*(0.23+(0.11/er))\n",
    "\n",
    "#Ecuacion No. 8\n",
    "B=377*np.pi/(2*zout)*(er)**0.5\n",
    "\n",
    "#Calculo de la relacion ancho sobre alto\n",
    "if (w_H)<=2:\n",
    "    #Ecuacion No. 5\n",
    "    w_H=(8*np.exp(A))/((np.exp(2*A))-2)\n",
    "else:\n",
    "    #Ecuacion No. 6\n",
    "    w_H=((2/np.pi)*(B-1-(np.log((2*B)-1))+(((er-1)/(2*er))*(np.log(B-1)+0.39-(0.61/er)))))\n",
    "\n",
    "\n",
    "#Calculo de la impedancia caracteristica\n",
    "if (w_H)<=1:\n",
    "    #Ecuacion No. 2 \n",
    "    Eef=((er+1)/2)+(((er-1)/2)*(1/(1+((12*H)/w))**0.5))+(0.04*(1-(w/H))**2)\n",
    "\n",
    "    #Ecuacion No. 1\n",
    "    Zo=(60/np.sqrt(Eef))*np.log((8*(H/w)+(w/(4*H))))    \n",
    "else:\n",
    "    #Ecuacion No. 4\n",
    "    Eef=((er+1)/2)+((er-1)/2)*(1/(1+(12*H/w)**0.5))\n",
    "\n",
    "    #Ecuacion No. 3\n",
    "    Zo=(120*np.pi)/(np.sqrt(Eef)*((w/H)+1.393+0.667*np.log(w/H+1.444)))\n",
    "\n",
    "\n",
    "#Calculo de ancho efectivo\n",
    "if (w_H)<=(1/2*np.pi):\n",
    "    #Ecuacion No. 9\n",
    "    we=w+((t/np.pi)*(1+np.log(4*np.pi*w/t)))\n",
    "else:\n",
    "    #Ecuacion No. 10\n",
    "    we=w+((t/np.pi)*(1+np.log(2*H/t)))\n",
    "\n",
    "\n",
    "print(\"A=\",A)\n",
    "print(\"B=\",B)\n",
    "print(\"w/H=\",w_H)\n",
    "print(\"Eef=\",Eef)\n",
    "print(\"Zo=\",Zo)\n",
    "print(\"we=\",we)\n",
    "\n",
    "\n",
    "\n"
   ]
  }
 ],
 "metadata": {
  "kernelspec": {
   "display_name": "Python 3",
   "language": "python",
   "name": "python3"
  },
  "language_info": {
   "codemirror_mode": {
    "name": "ipython",
    "version": 3
   },
   "file_extension": ".py",
   "mimetype": "text/x-python",
   "name": "python",
   "nbconvert_exporter": "python",
   "pygments_lexer": "ipython3",
   "version": "3.11.9"
  }
 },
 "nbformat": 4,
 "nbformat_minor": 2
}
