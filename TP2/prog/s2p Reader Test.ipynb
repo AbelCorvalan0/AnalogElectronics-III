{
 "cells": [
  {
   "cell_type": "markdown",
   "metadata": {},
   "source": [
    "# .s2p Reader"
   ]
  },
  {
   "cell_type": "code",
   "execution_count": 4,
   "metadata": {},
   "outputs": [
    {
     "ename": "ModuleNotFoundError",
     "evalue": "No module named 'skrf'",
     "output_type": "error",
     "traceback": [
      "\u001b[31m---------------------------------------------------------------------------\u001b[39m",
      "\u001b[31mModuleNotFoundError\u001b[39m                       Traceback (most recent call last)",
      "\u001b[36mCell\u001b[39m\u001b[36m \u001b[39m\u001b[32mIn[4]\u001b[39m\u001b[32m, line 3\u001b[39m\n\u001b[32m      1\u001b[39m \u001b[38;5;28;01mimport\u001b[39;00m\u001b[38;5;250m \u001b[39m\u001b[34;01mos\u001b[39;00m\n\u001b[32m      2\u001b[39m \u001b[38;5;28;01mimport\u001b[39;00m\u001b[38;5;250m \u001b[39m\u001b[34;01mnumpy\u001b[39;00m\u001b[38;5;250m \u001b[39m\u001b[38;5;28;01mas\u001b[39;00m\u001b[38;5;250m \u001b[39m\u001b[34;01mnp\u001b[39;00m\n\u001b[32m----> \u001b[39m\u001b[32m3\u001b[39m \u001b[38;5;28;01mimport\u001b[39;00m\u001b[38;5;250m \u001b[39m\u001b[34;01mskrf\u001b[39;00m\u001b[38;5;250m \u001b[39m\u001b[38;5;28;01mas\u001b[39;00m\u001b[38;5;250m \u001b[39m\u001b[34;01mskrf\u001b[39;00m\n\u001b[32m      5\u001b[39m \u001b[38;5;66;03m#Calculo los parámetros S para una frecuencia determinada en cada archivo .s2p en las carpetas especificadas.\u001b[39;00m\n\u001b[32m      6\u001b[39m \u001b[38;5;28;01mdef\u001b[39;00m\u001b[38;5;250m \u001b[39m\u001b[34mcalcular_parametros_s\u001b[39m(frecuencia, carpetas):\n",
      "\u001b[31mModuleNotFoundError\u001b[39m: No module named 'skrf'"
     ]
    }
   ],
   "source": [
    "import os\n",
    "import numpy as np\n",
    "import scikit-learn as skrf\n",
    "\n",
    "#Calculo los parámetros S para una frecuencia determinada en cada archivo .s2p en las carpetas especificadas.\n",
    "def calcular_parametros_s(frecuencia, carpetas):\n",
    "    s_parameters= {}\n",
    "    \n",
    "    # Se convierte la frecuencia de GHz a Hz\n",
    "    frecuencia *= 1e9                                  \n",
    "    \n",
    "    for carpeta in carpetas:\n",
    "        archivos_s2p= [f for f in os.listdir(carpeta) if f.endswith('.s2p')]\n",
    "        for archivo_s2p in archivos_s2p:\n",
    "            ruta_archivo= os.path.join(carpeta, archivo_s2p)\n",
    "            red= skrf.network.Network(ruta_archivo)\n",
    "            \n",
    "            # Encontrar la frecuencia más cercana en el archivo .s2p\n",
    "            indice_frecuencia= np.argmin(np.abs(red.f - frecuencia))\n",
    "            print(indice_frecuencia)\n",
    "            # Acceder a los parámetros S en la frecuencia encontrada\n",
    "            if archivo_s2p not in s_parameters:\n",
    "                s_parameters[archivo_s2p] = red.s[indice_frecuencia]\n",
    "    \n",
    "    return s_parameters"
   ]
  },
  {
   "cell_type": "markdown",
   "metadata": {},
   "source": [
    "## Cálculo del determinante $\\Delta$"
   ]
  },
  {
   "cell_type": "code",
   "execution_count": 16,
   "metadata": {},
   "outputs": [],
   "source": [
    "def calcular_delta(parametros_s):\n",
    "    deltas= {}\n",
    "    for archivo, parametros in parametros_s.items():\n",
    "        s11= parametros[0, 0]\n",
    "        s21= parametros[1, 0]\n",
    "        s12= parametros[0, 1]\n",
    "        s22= parametros[1, 1]\n",
    "\n",
    "        dt= s11*s22 - s12*s21\n",
    "        print(dt)\n",
    "        deltas[archivo]= dt\n",
    "    return deltas"
   ]
  },
  {
   "cell_type": "markdown",
   "metadata": {},
   "source": [
    "## Cálculo de Factor de Rollet $K$"
   ]
  },
  {
   "cell_type": "code",
   "execution_count": 14,
   "metadata": {},
   "outputs": [],
   "source": [
    "def calcular_k(s_parametros, deltas):\n",
    "    ks= {}\n",
    "    polarizacionk_incond_est= {}\n",
    "    \n",
    "    for archivo, parametros in s_parametros.items():\n",
    "        s11= parametros[0, 0]\n",
    "        s12= parametros[0, 1]\n",
    "        s21= parametros[1, 0]\n",
    "        s22= parametros[1, 1]\n",
    "        \n",
    "        #abs_delta= abs(deltas[archivo])\n",
    "\n",
    "        K= (1- abs(s11)**2 - abs(s22)**2 + abs(deltas[archivo])**2)/(2*abs(s12*s21))\n",
    "\n",
    "        ks[archivo]= K\n",
    "        \n",
    "        if K > 1:\n",
    "            polarizacionk_incond_est[archivo]= {'K': K}\n",
    "\n",
    "    return ks, polarizacionk_incond_est"
   ]
  },
  {
   "cell_type": "markdown",
   "metadata": {},
   "source": [
    "## Interfaz"
   ]
  },
  {
   "cell_type": "code",
   "execution_count": 15,
   "metadata": {},
   "outputs": [
    {
     "name": "stdout",
     "output_type": "stream",
     "text": [
      "{}\n"
     ]
    }
   ],
   "source": [
    "frecuencia= 1.6\n",
    "Zo= 50\n",
    "carpetas= [\"Datasheets\"]\n",
    "#ic_filter= 10\n",
    "\n",
    "s_parameters= calcular_parametros_s(frecuencia, carpetas)\n",
    "print(s_parameters)\n",
    "#deltas= calcular_delta(s_parameters)\n",
    "#ks, polarizacionk_incond_est= calcular_k(s_parameters, deltas)\n"
   ]
  }
 ],
 "metadata": {
  "kernelspec": {
   "display_name": "Python 3",
   "language": "python",
   "name": "python3"
  },
  "language_info": {
   "codemirror_mode": {
    "name": "ipython",
    "version": 3
   },
   "file_extension": ".py",
   "mimetype": "text/x-python",
   "name": "python",
   "nbconvert_exporter": "python",
   "pygments_lexer": "ipython3",
   "version": "3.12.3"
  }
 },
 "nbformat": 4,
 "nbformat_minor": 2
}
