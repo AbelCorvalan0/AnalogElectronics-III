{
 "cells": [
  {
   "cell_type": "markdown",
   "metadata": {},
   "source": [
    "# .s2p Reader"
   ]
  },
  {
   "cell_type": "code",
   "execution_count": 7,
   "metadata": {},
   "outputs": [
    {
     "ename": "ModuleNotFoundError",
     "evalue": "No module named 'numpy'",
     "output_type": "error",
     "traceback": [
      "\u001b[31m---------------------------------------------------------------------------\u001b[39m",
      "\u001b[31mModuleNotFoundError\u001b[39m                       Traceback (most recent call last)",
      "\u001b[36mCell\u001b[39m\u001b[36m \u001b[39m\u001b[32mIn[7]\u001b[39m\u001b[32m, line 2\u001b[39m\n\u001b[32m      1\u001b[39m \u001b[38;5;28;01mimport\u001b[39;00m\u001b[38;5;250m \u001b[39m\u001b[34;01mos\u001b[39;00m\n\u001b[32m----> \u001b[39m\u001b[32m2\u001b[39m \u001b[38;5;28;01mimport\u001b[39;00m\u001b[38;5;250m \u001b[39m\u001b[34;01mnumpy\u001b[39;00m\u001b[38;5;250m \u001b[39m\u001b[38;5;28;01mas\u001b[39;00m\u001b[38;5;250m \u001b[39m\u001b[34;01mnp\u001b[39;00m\n\u001b[32m      3\u001b[39m \u001b[38;5;28;01mimport\u001b[39;00m\u001b[38;5;250m \u001b[39m\u001b[34;01mskrf\u001b[39;00m\u001b[38;5;250m \u001b[39m\u001b[38;5;28;01mas\u001b[39;00m\u001b[38;5;250m \u001b[39m\u001b[34;01mskrf\u001b[39;00m\n\u001b[32m      4\u001b[39m \u001b[38;5;28;01mimport\u001b[39;00m\u001b[38;5;250m \u001b[39m\u001b[34;01mcmath\u001b[39;00m\n",
      "\u001b[31mModuleNotFoundError\u001b[39m: No module named 'numpy'"
     ]
    }
   ],
   "source": [
    "import os\n",
    "import numpy as np\n",
    "import skrf as skrf\n",
    "import cmath\n",
    "import math as m\n",
    "\n",
    "#Calcula los parámetros S en una frecuencia dada para cada archivo .s2p en las carpetas especificadas.\n",
    "def calcular_parametros_s(frecuencia, carpetas):\n",
    "    s_parameters = {}\n",
    "    \n",
    "    # Convertir frecuencia de GHz a Hz\n",
    "    frecuencia *= 1e9                                  \n",
    "    \n",
    "    for carpeta in carpetas:\n",
    "        archivos_s2p = [f for f in os.listdir(carpeta) if f.endswith('.s2p')]\n",
    "        for archivo_s2p in archivos_s2p:\n",
    "            ruta_archivo = os.path.join(carpeta, archivo_s2p)\n",
    "            red = skrf.network.Network(ruta_archivo)\n",
    "            \n",
    "            # Encontrar la frecuencia más cercana en el archivo .s2p\n",
    "            indice_frecuencia = np.argmin(np.abs(red.f - frecuencia))\n",
    "                        \n",
    "            # Acceder a los parámetros S en la frecuencia encontrada\n",
    "            if archivo_s2p not in s_parameters:\n",
    "                s_parameters[archivo_s2p] = red.s[indice_frecuencia]\n",
    "    \n",
    "    return s_parameters"
   ]
  },
  {
   "cell_type": "markdown",
   "metadata": {},
   "source": [
    "### Cálculo de Delta $\\Delta$"
   ]
  },
  {
   "cell_type": "code",
   "execution_count": 221,
   "metadata": {},
   "outputs": [],
   "source": [
    "def calculo_delta(parametros_s):\n",
    "    dts= {}\n",
    "    dts_abs= {}\n",
    "    for archivo, parametros in parametros_s.items():\n",
    "        s11= parametros[0, 0]\n",
    "        s12= parametros[0, 1]\n",
    "        s21= parametros[1, 0]\n",
    "        s22= parametros[1, 1]\n",
    "\n",
    "        # delta = (parametros[0, 0] * parametros[1, 1]) - (parametros[0, 1] * parametros[1, 0])\n",
    "        dt= s11*s22 - s12*s21\n",
    "        dts[archivo]= dt\n",
    "        dts_abs[archivo]= abs(dt)\n",
    "\n",
    "    return dts_abs"
   ]
  },
  {
   "cell_type": "markdown",
   "metadata": {},
   "source": [
    "### Cálculo de Factor de Rollet $K$"
   ]
  },
  {
   "cell_type": "code",
   "execution_count": 222,
   "metadata": {},
   "outputs": [],
   "source": [
    "def calcular_k(s_parametros, deltas):\n",
    "    k = {}\n",
    "    k_incond = {}\n",
    "    for archivo, parametros in s_parametros.items():\n",
    "        s11 = parametros[0, 0]\n",
    "        s12 = parametros[0, 1]\n",
    "        s21 = parametros[1, 0]\n",
    "        s22 = parametros[1, 1]\n",
    "        abs_delta = abs(deltas[archivo])\n",
    "        \n",
    "        # Calcular el parámetro K\n",
    "        K= (1-abs(s11)**2 - abs(s22)**2 + (abs_delta)**2)/(2*abs(s12*s21))\n",
    "        \n",
    "        k[archivo]= K\n",
    "        if K > 1:\n",
    "            # Guardar la polarización si k es mayor que 1\n",
    "            k_incond[archivo] = {'k': K}\n",
    "    \n",
    "    return k_incond\n"
   ]
  },
  {
   "cell_type": "markdown",
   "metadata": {},
   "source": [
    "### Cálculo de $\\Gamma_{in}, \\Gamma_{out}$"
   ]
  },
  {
   "cell_type": "markdown",
   "metadata": {},
   "source": [
    "### Diseño de microtiras"
   ]
  },
  {
   "cell_type": "code",
   "execution_count": 224,
   "metadata": {},
   "outputs": [],
   "source": [
    "# def microtiras(Zo):\n",
    "#     er = 4.3\n",
    "#     A = Zo/60*np.sqrt((er+1)/2) + ((er-1)/(er+1))*(0.23 + (0.11/er))\n",
    "#     B = 377*np.pi/(2*Zo*np.sqrt(er))\n",
    "\n",
    "#     print(\"A: \", A, \"B: \", B)\n",
    "\n",
    "\n",
    "#     WH = (8*np.e**A)/(np.e**(2*A)-2)\n",
    "#     print(\"WH: \", WH)\n",
    "\n",
    "#     WH = 2*np.pi*(B-1-np.ln(2*B-1) + (er-1)/(2*er)*(np.ln(B-1) + 0.39*0.61/er))\n",
    "#     print(\"WH: \", WH)"
   ]
  },
  {
   "cell_type": "markdown",
   "metadata": {},
   "source": [
    "### Ejemplo de uso"
   ]
  },
  {
   "cell_type": "code",
   "execution_count": null,
   "metadata": {},
   "outputs": [],
   "source": [
    "frecuencia = 1.6                # GHz\n",
    "Zo         = 50                 # Impedancia  \n",
    "carpetas   = [\"Datasheets/BFP640\"]    # Rutas a las carpetas que contienen los archivos .s2p\n",
    "ic_filter  = 40                 # Corriente para filtrar polaricaciones\n",
    "\n",
    "s_parameters = calcular_parametros_s(frecuencia, carpetas)\n",
    "deltas= calculo_delta(s_parameters)\n",
    "#k, k_incond= calcular_k(s_parameters, deltas)\n",
    "k_incond= calcular_k(s_parameters, deltas)\n",
    "impedancias  = calcular_impedancias(Zo, s_parameters, k_incond, ic_filter, frecuencia)\n"
   ]
  },
  {
   "cell_type": "markdown",
   "metadata": {},
   "source": [
    "## Prints \n",
    "\n",
    "1) Todos los parámetros S para la frecuencia establecida (nuestro caso $1.6 \\space GHz$)"
   ]
  },
  {
   "cell_type": "code",
   "execution_count": 227,
   "metadata": {},
   "outputs": [],
   "source": [
    "# Parámetros S de todas las polarizaciones con frecuencia 1.6 GHz.\n",
    "#print(s_parameters)\n",
    "\n",
    "# Deltas calculados\n",
    "#print(deltas)\n",
    "\n",
    "# K que son incondicionalmente estables.\n",
    "#print(k_incond)"
   ]
  }
 ],
 "metadata": {
  "kernelspec": {
   "display_name": "Python 3 (ipykernel)",
   "language": "python",
   "name": "python3"
  },
  "language_info": {
   "codemirror_mode": {
    "name": "ipython",
    "version": 3
   },
   "file_extension": ".py",
   "mimetype": "text/x-python",
   "name": "python",
   "nbconvert_exporter": "python",
   "pygments_lexer": "ipython3",
   "version": "3.12.3"
  }
 },
 "nbformat": 4,
 "nbformat_minor": 4
}
