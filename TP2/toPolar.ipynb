{
 "cells": [
  {
   "cell_type": "code",
   "execution_count": 12,
   "metadata": {},
   "outputs": [
    {
     "name": "stdout",
     "output_type": "stream",
     "text": [
      "      Module         |         Phase     \n",
      "El valor polar de s11 es:  (0.37328340439939195, 3.110244041741592)\n",
      "El valor polar de s12 es:  (0.042537747942268875, 1.0134429614669536)\n",
      "El valor polar de s21 es:  (11.6979812433599, 1.4067339944473278)\n",
      "El valor polar de s22 es:  (0.210215984168664, -2.178326666832141)\n"
     ]
    }
   ],
   "source": [
    "import numpy as np\n",
    "import math as m\n",
    "\n",
    "\n",
    "def cart2pol(x, y):\n",
    "    rho = np.sqrt(x**2 + y**2)\n",
    "    phi = np.arctan2(y, x)\n",
    "    return(rho, phi)\n",
    "\n",
    "s11= cart2pol(-0.3731, 0.0117)\n",
    "s12= cart2pol(0.0225, 0.0361)\n",
    "s21= cart2pol(1.9106, 11.5409)\n",
    "s22= cart2pol(-0.1200, -0.1726)\n",
    "\n",
    "print('      Module         |         Phase     ')\n",
    "print('El valor polar de s11 es: ', s11)\n",
    "print('El valor polar de s12 es: ', s12)\n",
    "print('El valor polar de s21 es: ', s21)\n",
    "print('El valor polar de s22 es: ', s22)"
   ]
  }
 ],
 "metadata": {
  "kernelspec": {
   "display_name": "Python 3",
   "language": "python",
   "name": "python3"
  },
  "language_info": {
   "codemirror_mode": {
    "name": "ipython",
    "version": 3
   },
   "file_extension": ".py",
   "mimetype": "text/x-python",
   "name": "python",
   "nbconvert_exporter": "python",
   "pygments_lexer": "ipython3",
   "version": "3.10.12"
  }
 },
 "nbformat": 4,
 "nbformat_minor": 2
}
