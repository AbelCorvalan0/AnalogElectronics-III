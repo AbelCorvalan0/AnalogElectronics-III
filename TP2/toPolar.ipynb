{
 "cells": [
  {
   "cell_type": "markdown",
   "metadata": {},
   "source": [
    "## Conversor de COORDENADAS CARTESIANAS a COORDENADAS POLARES"
   ]
  },
  {
   "cell_type": "code",
   "execution_count": 2,
   "metadata": {},
   "outputs": [
    {
     "name": "stdout",
     "output_type": "stream",
     "text": [
      "                                Module         |         Phase     \n",
      "El valor polar de s11 es:  (174.80060368419785, 1.568168186392786)\n",
      "El valor polar de s12 es:  (79.68949507306468, 1.4490873434276397)\n",
      "El valor polar de s21 es:  (53.90002014433761, 1.5699317630028875)\n",
      "El valor polar de s22 es:  (71.1001569643837, -1.5686950640646893)\n"
     ]
    }
   ],
   "source": [
    "import numpy as np\n",
    "import math as m\n",
    "\n",
    "\n",
    "def cart2pol(x, y):\n",
    "    rho = np.sqrt(x**2 + y**2)\n",
    "    phi = np.arctan2(y, x)\n",
    "    return(rho, phi)\n",
    "\n",
    "s11= cart2pol(0.4594, 174.8)\n",
    "s12= cart2pol(9.675, 79.1)\n",
    "s21= cart2pol(0.0466, 53.9)\n",
    "s22= cart2pol(0.1494, -71.1)\n",
    "\n",
    "print('                                Module         |         Phase     ')\n",
    "print('El valor polar de s11 es: ', s11)\n",
    "print('El valor polar de s12 es: ', s12)\n",
    "print('El valor polar de s21 es: ', s21)\n",
    "print('El valor polar de s22 es: ', s22)"
   ]
  },
  {
   "cell_type": "markdown",
   "metadata": {},
   "source": [
    "## Conversor de COORDENADAS POLARES a COORDENADAS CARTESIANAS"
   ]
  },
  {
   "cell_type": "code",
   "execution_count": 3,
   "metadata": {},
   "outputs": [
    {
     "name": "stdout",
     "output_type": "stream",
     "text": [
      "s11: (-0.2639065279446941, -0.038499798806959674)\n",
      "s21: (1.7589726154939505, 14.12187580804839)\n",
      "s12: (0.019427951806851095, 0.03519367398540072)\n",
      "s22: (0.16605001001158204, -0.20652456070684064)\n"
     ]
    }
   ],
   "source": [
    "import math\n",
    "\n",
    "def polar_to_cartesian(r, theta):\n",
    "    x = r * math.cos(math.radians(theta))  # Convertir theta a radianes\n",
    "    y = r * math.sin(math.radians(theta))  # Convertir theta a radianes\n",
    "    return x, y\n",
    "\n",
    "# Ejemplo de uso\n",
    "r = 5\n",
    "theta = 45  # en grados\n",
    "x1, y1= polar_to_cartesian(0.2667, -171.7) #S11\n",
    "x2, y2= polar_to_cartesian(14.231, 82.9) #s21\n",
    "x3, y3= polar_to_cartesian(0.0402 , 61.1) #s12\n",
    "x4, y4= polar_to_cartesian(0.2650, -51.2) #s22\n",
    "\n",
    "print(\"s11:\", (x1, y1))\n",
    "print(\"s21:\", (x2, y2))\n",
    "print(\"s12:\", (x3, y3))\n",
    "print(\"s22:\", (x4, y4))"
   ]
  }
 ],
 "metadata": {
  "kernelspec": {
   "display_name": "Python 3",
   "language": "python",
   "name": "python3"
  },
  "language_info": {
   "codemirror_mode": {
    "name": "ipython",
    "version": 3
   },
   "file_extension": ".py",
   "mimetype": "text/x-python",
   "name": "python",
   "nbconvert_exporter": "python",
   "pygments_lexer": "ipython3",
   "version": "3.10.12"
  }
 },
 "nbformat": 4,
 "nbformat_minor": 2
}
