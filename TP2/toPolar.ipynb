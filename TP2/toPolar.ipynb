{
 "cells": [
  {
   "cell_type": "markdown",
   "metadata": {},
   "source": [
    "## Conversor de COORDENADAS CARTESIANAS a COORDENADAS POLARES"
   ]
  },
  {
   "cell_type": "code",
   "execution_count": 6,
   "metadata": {},
   "outputs": [
    {
     "name": "stdout",
     "output_type": "stream",
     "text": [
      "                                Module         |         Phase     \n",
      "El valor polar de s11 es:  (174.80060368419785, 1.568168186392786)\n",
      "El valor polar de s12 es:  (79.68949507306468, 1.4490873434276397)\n",
      "El valor polar de s21 es:  (53.90002014433761, 1.5699317630028875)\n",
      "El valor polar de s22 es:  (71.1001569643837, -1.5686950640646893)\n"
     ]
    }
   ],
   "source": [
    "import numpy as np\n",
    "import math as m\n",
    "\n",
    "\n",
    "def cart2pol(x, y):\n",
    "    rho = np.sqrt(x**2 + y**2)\n",
    "    phi = np.arctan2(y, x)\n",
    "    return(rho, phi)\n",
    "\n",
    "s11= cart2pol(0.4594, 174.8)\n",
    "s12= cart2pol(9.675, 79.1)\n",
    "s21= cart2pol(0.0466, 53.9)\n",
    "s22= cart2pol(0.1494, -71.1)\n",
    "\n",
    "print('                                Module         |         Phase     ')\n",
    "print('El valor polar de s11 es: ', s11)\n",
    "print('El valor polar de s12 es: ', s12)\n",
    "print('El valor polar de s21 es: ', s21)\n",
    "print('El valor polar de s22 es: ', s22)"
   ]
  },
  {
   "cell_type": "markdown",
   "metadata": {},
   "source": [
    "## Conversor de COORDENADAS POLARES a COORDENADAS CARTESIANAS"
   ]
  },
  {
   "cell_type": "code",
   "execution_count": 5,
   "metadata": {},
   "outputs": [
    {
     "name": "stdout",
     "output_type": "stream",
     "text": [
      "s11= complex (-0.6995217942614798, 0.32916997030895756)\n",
      "s21= complex (1.7174245878476282, 2.75915798479471)\n",
      "s12= complex (0.045225161461749014, 0.05486250787886689)\n",
      "s22= complex (-0.5655334102527199, 0.1903230198581583)\n"
     ]
    }
   ],
   "source": [
    "import math\n",
    "\n",
    "def polar_to_cartesian(r, theta):\n",
    "    x = r * math.cos(math.radians(theta))  # Convertir theta a radianes\n",
    "    y = r * math.sin(math.radians(theta))  # Convertir theta a radianes\n",
    "    return x, y\n",
    "\n",
    "# # Ejemplo de clase\n",
    "# x1, y1= polar_to_cartesian(0.656, 146.7) #S11\n",
    "# x2, y2= polar_to_cartesian(0.122, 46.1) #s21\n",
    "# x3, y3= polar_to_cartesian(2.3, 44.7) #s12\n",
    "# x4, y4= polar_to_cartesian(0.172, -117.2) #s22\n",
    "\n",
    "# Ejemplo de EA3_TP2_Beamer.pdf\n",
    "x1, y1= polar_to_cartesian(0.7731, 154.8) #S11\n",
    "x2, y2= polar_to_cartesian(3.250, 58.1) #s21\n",
    "x3, y3= polar_to_cartesian(0.0711, 50.5) #s12\n",
    "x4, y4= polar_to_cartesian(0.5967, 161.4) #s22\n",
    "\n",
    "print(\"s11= complex\", (x1, y1))\n",
    "print(\"s21= complex\", (x2, y2))\n",
    "print(\"s12= complex\", (x3, y3))\n",
    "print(\"s22= complex\", (x4, y4))"
   ]
  }
 ],
 "metadata": {
  "kernelspec": {
   "display_name": "Python 3",
   "language": "python",
   "name": "python3"
  },
  "language_info": {
   "codemirror_mode": {
    "name": "ipython",
    "version": 3
   },
   "file_extension": ".py",
   "mimetype": "text/x-python",
   "name": "python",
   "nbconvert_exporter": "python",
   "pygments_lexer": "ipython3",
   "version": "3.10.12"
  }
 },
 "nbformat": 4,
 "nbformat_minor": 2
}
