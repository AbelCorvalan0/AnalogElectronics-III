{
 "cells": [
  {
   "cell_type": "markdown",
   "metadata": {},
   "source": [
    "# .s2p Reader"
   ]
  },
  {
   "cell_type": "code",
   "execution_count": 188,
   "metadata": {},
   "outputs": [],
   "source": [
    "import os\n",
    "import numpy as np\n",
    "import skrf as skrf\n",
    "\n",
    "#Calculo los parámetros S para una frecuencia determinada en cada archivo .s2p en las carpetas especificadas.\n",
    "def calcular_parametros_s(frecuencia, carpetas):\n",
    "    s_parameters= {}\n",
    "    \n",
    "    # Se convierte la frecuencia de GHz a Hz\n",
    "    frecuencia *= 1e9                                  \n",
    "    \n",
    "    for carpeta in carpetas:\n",
    "        archivos_s2p= [f for f in os.listdir(carpeta) if f.endswith('.s2p')]\n",
    "        for archivo_s2p in archivos_s2p:\n",
    "            ruta_archivo= os.path.join(carpeta, archivo_s2p)\n",
    "            red= skrf.network.Network(ruta_archivo)\n",
    "            \n",
    "            # Encontrar la frecuencia más cercana en el archivo .s2p\n",
    "            indice_frecuencia= np.argmin(np.abs(red.f - frecuencia))\n",
    "            print(indice_frecuencia)\n",
    "            # Acceder a los parámetros S en la frecuencia encontrada\n",
    "            if archivo_s2p not in s_parameters:\n",
    "                s_parameters[archivo_s2p] = red.s[indice_frecuencia]\n",
    "    \n",
    "    return s_parameters"
   ]
  },
  {
   "cell_type": "markdown",
   "metadata": {},
   "source": [
    "## Cálculo del determinante $\\Delta$"
   ]
  },
  {
   "cell_type": "code",
   "execution_count": 189,
   "metadata": {},
   "outputs": [],
   "source": [
    "def calcular_delta(parametros_s):\n",
    "    deltas= {}\n",
    "    for archivo, parametros in parametros_s.items():\n",
    "        s11= parametros[0, 0]\n",
    "        s21= parametros[1, 0]\n",
    "        s12= parametros[0, 1]\n",
    "        s22= parametros[1, 1]\n",
    "\n",
    "        dt= s11*s22 - s12*s21\n",
    "        print(dt)\n",
    "        deltas[archivo]= dt\n",
    "    return deltas"
   ]
  },
  {
   "cell_type": "markdown",
   "metadata": {},
   "source": [
    "## Cálculo de Factor de Rollet $K$"
   ]
  },
  {
   "cell_type": "code",
   "execution_count": 190,
   "metadata": {},
   "outputs": [],
   "source": [
    "def calcular_k(s_parametros, deltas):\n",
    "    ks= {}\n",
    "    polarizacionk_incond_est= {}\n",
    "    \n",
    "    for archivo, parametros in s_parametros.items():\n",
    "        s11= parametros[0, 0]\n",
    "        s12= parametros[0, 1]\n",
    "        s21= parametros[1, 0]\n",
    "        s22= parametros[1, 1]\n",
    "        \n",
    "        #abs_delta= abs(deltas[archivo])\n",
    "\n",
    "        K= (1- abs(s11)**2 - abs(s22)**2 + abs(deltas[archivo])**2)/(2*abs(s12*s21))\n",
    "\n",
    "        ks[archivo]= K\n",
    "        \n",
    "        if K > 1:\n",
    "            polarizacionk_incond_est[archivo]= {'K': K}\n",
    "\n",
    "    return ks, polarizacionk_incond_est"
   ]
  },
  {
   "cell_type": "markdown",
   "metadata": {},
   "source": [
    "## Interfaz"
   ]
  },
  {
   "cell_type": "code",
   "execution_count": 191,
   "metadata": {},
   "outputs": [
    {
     "name": "stdout",
     "output_type": "stream",
     "text": [
      "30\n",
      "{'BFP640_VCE_1.5V_IC_22mA.s2p': array([[-0.28714724 -0.11195403j,  0.02849955 +0.03837468j],\n",
      "       [ 1.3055463 +12.85286388j,  0.12410209 -0.24147655j]])}\n"
     ]
    }
   ],
   "source": [
    "frecuencia= 1.6\n",
    "Zo= 50\n",
    "carpetas= [\"Datasheets\"]\n",
    "#ic_filter= 10\n",
    "\n",
    "s_parameters= calcular_parametros_s(frecuencia, carpetas)\n",
    "print(s_parameters)\n",
    "#deltas= calcular_delta(s_parameters)\n",
    "#ks, polarizacionk_incond_est= calcular_k(s_parameters, deltas)\n"
   ]
  }
 ],
 "metadata": {
  "kernelspec": {
   "display_name": "Python 3",
   "language": "python",
   "name": "python3"
  },
  "language_info": {
   "codemirror_mode": {
    "name": "ipython",
    "version": 3
   },
   "file_extension": ".py",
   "mimetype": "text/x-python",
   "name": "python",
   "nbconvert_exporter": "python",
   "pygments_lexer": "ipython3",
   "version": "3.10.12"
  }
 },
 "nbformat": 4,
 "nbformat_minor": 2
}
