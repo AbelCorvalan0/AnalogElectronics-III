{
 "cells": [
  {
   "cell_type": "markdown",
   "metadata": {},
   "source": [
    "# TP3 PLL - Electrónica Analógica III"
   ]
  },
  {
   "cell_type": "markdown",
   "metadata": {},
   "source": [
    "Se desarrolla el ejemplo visto en clase"
   ]
  },
  {
   "cell_type": "code",
   "execution_count": 1,
   "metadata": {},
   "outputs": [
    {
     "name": "stdout",
     "output_type": "stream",
     "text": [
      "1875000000.0\n",
      "1950000000.0\n"
     ]
    }
   ],
   "source": [
    "import sympy as sym\n",
    "\n",
    "Fmin, Fmax, FI= sym.symbols('F_{min}, F_{max}, FI')\n",
    "Fr, Fin= sym.symbols('S, F_{in}')\n",
    "D, Dmin= sym.symbols('D, D_{min}')\n",
    "N= sym.symbols('N')\n",
    "\n",
    "# N del divisor\n",
    "N= 20\n",
    "\n",
    "# FI\n",
    "FI= 70e6\n",
    "\n",
    "# Divisor 20/21\n",
    "D= N/(N+1)\n",
    "\n",
    "Fmin= 1805e6+FI #1875MHz\n",
    "Fmax= 1880e6+FI #1950MHz\n",
    "print(Fmin)\n",
    "print(Fmax)\n",
    "\n",
    "# Separación entre canales (200KHz)\n",
    "Fr= 200e3 "
   ]
  },
  {
   "cell_type": "markdown",
   "metadata": {},
   "source": [
    "Se debe considerar que las salidas deseadas sean múltiplos de la frecuencia de referencia, por ejemplo, a partir de 200KHz de referencia puedo sintetizar frecuencias múltiplos de ésta:\n",
    "\n",
    "100.2MHz, 100.4MHz, etc.\n",
    "\n",
    "Si se necesita sintetizar por ejemplo 100.1MHz, 100.3MHz, se debe partir de 100KHz, si el paso requerido es de 200KHz entre canal se sintetizará cada 100KHz y se usaría canal de por medio.\n",
    "\n",
    "Se puede usar cualquiera de los 2."
   ]
  },
  {
   "cell_type": "markdown",
   "metadata": {},
   "source": [
    "### Cálculo del divisor"
   ]
  },
  {
   "cell_type": "code",
   "execution_count": 2,
   "metadata": {},
   "outputs": [
    {
     "name": "stdout",
     "output_type": "stream",
     "text": [
      "Valor mínimo del factor de div:  380\n",
      "Se logra Fmin: 7.60e+07 \n"
     ]
    }
   ],
   "source": [
    "# Mínimo factor de división del divisor 20/21\n",
    "Dmin= N*(N-1)\n",
    "print('Valor mínimo del factor de div: ', Dmin)\n",
    "\n",
    "Fmin_1= Fr*Dmin\n",
    "\n",
    "# 38MHz\n",
    "print('Se logra Fmin: %.2e ' %Fmin_1)\n",
    "# Si se toma valores de N= 20 sobrepasamos\n",
    "# la frecuencia mínima de salida\n",
    "\n",
    "#Frp= 100e3\n",
    "#Fmin_2= Frp*Dmin\n",
    "#print('Se logra Fmin_2: %.2e ' %Fmin_2)"
   ]
  },
  {
   "cell_type": "markdown",
   "metadata": {},
   "source": [
    "### Cálculo del B_{mínimo}"
   ]
  },
  {
   "cell_type": "code",
   "execution_count": 3,
   "metadata": {},
   "outputs": [
    {
     "name": "stdout",
     "output_type": "stream",
     "text": [
      "Se tiene lo siguiente: \n",
      "\n",
      "Fmin= 1.875e+09\n",
      "Referencia (Paso)=  200000.0\n",
      "Dmínimo (Mínima división)=  9375.0\n",
      "Bmin=  468.75\n",
      "frecuencia inicial F= 1.872e+09   con B= 468  A=0\n"
     ]
    }
   ],
   "source": [
    "print('Se tiene lo siguiente: \\n')\n",
    "print('Fmin= %.3e' %Fmin)\n",
    "print('Referencia (Paso)= ', Fr)\n",
    "\n",
    "# Cálculo de Dmin\n",
    "Dm= Fmin/Fr\n",
    "\n",
    "# Este número debe ser entero (solo la división por entero)\n",
    "print('Dmínimo (Mínima división)= ', Dm)\n",
    "\n",
    "# Cálculo de Bmín\n",
    "Bmin= Dm/N\n",
    "print('Bmin= ', Bmin)\n",
    "# Bmin= 468.75 se redondea a 468.\n",
    "# Valor de Bmin= 24.7 se debe redondear a 24.\n",
    "# El 24.7 indica que no vamos a empezar desde A= 0.\n",
    "# pero esto tampoco es un problema.\n",
    "\n",
    "# Qué frecuencia se logra con B= 24, A=0?\n",
    "A= 0\n",
    "Bmin_red= 468\n",
    "F= Fr*(Bmin_red*N+A)\n",
    "print('frecuencia inicial F= %.3e' %F, '  con B=', Bmin_red, ' A=0')\n",
    "# Esta frecuencia es menor a la que necesitamos\n",
    "# no hay problema, se procede a determinar el A."
   ]
  },
  {
   "cell_type": "markdown",
   "metadata": {},
   "source": [
    "### Cálculo de A para $F_{min}$\n",
    "\n",
    "De la siguiente fórmula:\n",
    "\n",
    "$$ \\boxed{ F= F_{r} (BN + A) } $$\n",
    "\n",
    "Se toma lo siguiente:\n",
    "\n",
    "$$ A = \\frac{F_{mínima \\, deseada}-F_{min}}{F_{r}} $$"
   ]
  },
  {
   "cell_type": "code",
   "execution_count": 4,
   "metadata": {},
   "outputs": [
    {
     "name": "stdout",
     "output_type": "stream",
     "text": [
      "A=  15.0\n"
     ]
    }
   ],
   "source": [
    "A= (Fmin-F)/(Fr)\n",
    "\n",
    "print('A= ', A)\n",
    "\n",
    "# Se realiza la Tabla 1.2 en LibreOffice Calc"
   ]
  },
  {
   "cell_type": "markdown",
   "metadata": {},
   "source": [
    "### Filtro de Lazo (FPB)."
   ]
  },
  {
   "cell_type": "code",
   "execution_count": 5,
   "metadata": {},
   "outputs": [
    {
     "name": "stdout",
     "output_type": "stream",
     "text": [
      "F=  Fxtal/R\n",
      "Fo= 4.00e+06\n"
     ]
    }
   ],
   "source": [
    "R, Fxtal, Fo= sym.symbols('R, Fxtal, F_{o}')\n",
    "\n",
    "F= Fxtal/R\n",
    "print('F= ', F)\n",
    "\n",
    "#Fr=\n",
    "\n",
    "Fo= N*Fr\n",
    "print('Fo= %.2e' %Fo)\n"
   ]
  }
 ],
 "metadata": {
  "kernelspec": {
   "display_name": "Python 3",
   "language": "python",
   "name": "python3"
  },
  "language_info": {
   "codemirror_mode": {
    "name": "ipython",
    "version": 3
   },
   "file_extension": ".py",
   "mimetype": "text/x-python",
   "name": "python",
   "nbconvert_exporter": "python",
   "pygments_lexer": "ipython3",
   "version": "3.10.12"
  }
 },
 "nbformat": 4,
 "nbformat_minor": 2
}
