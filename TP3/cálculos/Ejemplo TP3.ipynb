{
 "cells": [
  {
   "cell_type": "markdown",
   "metadata": {},
   "source": [
    "# TP3 PLL - Electrónica Analógica III"
   ]
  },
  {
   "cell_type": "markdown",
   "metadata": {},
   "source": [
    "Se desarrolla el ejemplo visto en clase"
   ]
  },
  {
   "cell_type": "code",
   "execution_count": 22,
   "metadata": {},
   "outputs": [
    {
     "name": "stdout",
     "output_type": "stream",
     "text": [
      "Fmin=  98800000.0\n",
      "Fmax=  118600000.0\n"
     ]
    }
   ],
   "source": [
    "import sympy as sym\n",
    "\n",
    "Fmin, Fmax, FI= sym.symbols('F_{min}, F_{max}, FI')\n",
    "Fr, Fin= sym.symbols('S, F_{in}')\n",
    "D, Dmin= sym.symbols('D, D_{min}')\n",
    "N= sym.symbols('N')\n",
    "\n",
    "# N del divisor\n",
    "N= 20\n",
    "\n",
    "# FI\n",
    "FI= 10.7e6\n",
    "\n",
    "# Divisor 20/21\n",
    "D= N/(N+1)\n",
    "\n",
    "Fmin= 88.1e6+FI\n",
    "Fmax= 107.9e6+FI\n",
    "print('Fmin= ', Fmin)\n",
    "print('Fmax= ', Fmax)\n",
    "\n",
    "# Separación entre canales (200KHz)\n",
    "Fr= 200e3 "
   ]
  },
  {
   "cell_type": "markdown",
   "metadata": {},
   "source": [
    "Se debe considerar que las salidas deseadas sean múltiplos de la frecuencia de referencia, por ejemplo, a partir de 200KHz de referencia puedo sintetizar frecuencias múltiplos de ésta:\n",
    "\n",
    "100.2MHz, 100.4MHz, etc.\n",
    "\n",
    "Si se necesita sintetizar por ejemplo 100.1MHz, 100.3MHz, se debe partir de 100KHz, si el paso requerido es de 200KHz entre canal se sintetizará cada 100KHz y se usaría canal de por medio.\n",
    "\n",
    "Se puede usar cualquiera de los 2."
   ]
  },
  {
   "cell_type": "markdown",
   "metadata": {},
   "source": [
    "### Cálculo del divisor"
   ]
  },
  {
   "cell_type": "code",
   "execution_count": 23,
   "metadata": {},
   "outputs": [
    {
     "name": "stdout",
     "output_type": "stream",
     "text": [
      "Valor mínimo del factor de div:  380\n",
      "Se logra: 7.60e+07 \n",
      "Se logra: 3.80e+07 \n"
     ]
    }
   ],
   "source": [
    "# Mínimo factor de división del divisor 20/21\n",
    "Dmin= N*(N-1)\n",
    "print('Valor mínimo del factor de div: ', Dmin)\n",
    "\n",
    "Fmin_1= Fr*Dmin\n",
    "# 38MHz\n",
    "print('Se logra: %.2e ' %Fmin_1)\n",
    "\n",
    "Frp= 100e3\n",
    "Fmin_2= Frp*Dmin\n",
    "print('Se logra: %.2e ' %Fmin_2)"
   ]
  },
  {
   "cell_type": "markdown",
   "metadata": {},
   "source": [
    "### Cálculo del B_{mínimo}"
   ]
  },
  {
   "cell_type": "code",
   "execution_count": 24,
   "metadata": {},
   "outputs": [
    {
     "name": "stdout",
     "output_type": "stream",
     "text": [
      "Se tiene lo siguiente: \n",
      "\n",
      "Fmin= 9.88e+07\n",
      "Referencia (Paso)=  200000.0\n",
      "Dmínimo (Míinima división)=  494.0\n",
      "Bmin=  24.7\n",
      "F=  96000000.0   con B= 24  A=0\n"
     ]
    }
   ],
   "source": [
    "print('Se tiene lo siguiente: \\n')\n",
    "print('Fmin= %.2e' %Fmin)\n",
    "print('Referencia (Paso)= ', Fr)\n",
    "\n",
    "# Cálculo de Dmin\n",
    "Dm= Fmin/Fr \n",
    "\n",
    "# Este número debe ser entero (solo la división por entero)\n",
    "print('Dmínimo (Míinima división)= ', Dm)\n",
    "\n",
    "# Cálculo de Bmín\n",
    "Bmin= Dm/N\n",
    "print('Bmin= ', Bmin)\n",
    "# Valor de Bmin= 24.7 se debe redondear a 24.\n",
    "# El 24.7 indica que no vamos a empezar desde A= 0.\n",
    "# pero esto tampoco es un problema.\n",
    "\n",
    "# Qué frecuencia se logra con B= 24, A=0?\n",
    "A= 0\n",
    "Bmin= 24\n",
    "F= Fr*(Bmin*N+A)\n",
    "print('F= ', F, '  con B=', Bmin, ' A=0')\n",
    "# Esta frecuencia es menor a la que necesitamos\n",
    "# no hay problema, se procede a determinar el A."
   ]
  },
  {
   "cell_type": "markdown",
   "metadata": {},
   "source": [
    "### Cálculo de A para $F_{min}$\n",
    "\n",
    "De la siguiente fórmula:\n",
    "\n",
    "$$ \\boxed{ F= F_{r} (BN + A) } $$\n",
    "\n",
    "Se toma lo siguiente:\n",
    "\n",
    "$$ A = \\frac{F_{mínima \\, deseada}-F_{min}}{F_{r}} $$"
   ]
  },
  {
   "cell_type": "code",
   "execution_count": 25,
   "metadata": {},
   "outputs": [
    {
     "name": "stdout",
     "output_type": "stream",
     "text": [
      "A=  14.0\n"
     ]
    }
   ],
   "source": [
    "A= (Fmin-F)/(Fr)\n",
    "\n",
    "print('A= ', A)\n",
    "\n",
    "# Se realiza la Tabla 1.2 en LibreOffice Calc"
   ]
  },
  {
   "cell_type": "markdown",
   "metadata": {},
   "source": [
    "### Filtro de Lazo (FPB)."
   ]
  },
  {
   "cell_type": "code",
   "execution_count": 26,
   "metadata": {},
   "outputs": [
    {
     "name": "stdout",
     "output_type": "stream",
     "text": [
      "F=  Fxtal/R\n",
      "Fo= 4.00e+06\n"
     ]
    }
   ],
   "source": [
    "R, Fxtal, Fo= sym.symbols('R, Fxtal, F_{o}')\n",
    "\n",
    "F= Fxtal/R\n",
    "print('F= ', F)\n",
    "\n",
    "#Fr=\n",
    "\n",
    "Fo= N*Fr\n",
    "print('Fo= %.2e' %Fo)\n"
   ]
  }
 ],
 "metadata": {
  "kernelspec": {
   "display_name": "Python 3",
   "language": "python",
   "name": "python3"
  },
  "language_info": {
   "codemirror_mode": {
    "name": "ipython",
    "version": 3
   },
   "file_extension": ".py",
   "mimetype": "text/x-python",
   "name": "python",
   "nbconvert_exporter": "python",
   "pygments_lexer": "ipython3",
   "version": "3.10.12"
  }
 },
 "nbformat": 4,
 "nbformat_minor": 2
}
